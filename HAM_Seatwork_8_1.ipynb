{
  "nbformat": 4,
  "nbformat_minor": 0,
  "metadata": {
    "colab": {
      "provenance": [],
      "toc_visible": true,
      "include_colab_link": true
    },
    "kernelspec": {
      "name": "python3",
      "display_name": "Python 3"
    },
    "language_info": {
      "name": "python"
    }
  },
  "cells": [
    {
      "cell_type": "markdown",
      "metadata": {
        "id": "view-in-github",
        "colab_type": "text"
      },
      "source": [
        "<a href=\"https://colab.research.google.com/github/oneHAMazing/-HAM-PSMDSRC103/blob/main/HAM_Seatwork_8_1.ipynb\" target=\"_parent\"><img src=\"https://colab.research.google.com/assets/colab-badge.svg\" alt=\"Open In Colab\"/></a>"
      ]
    },
    {
      "cell_type": "markdown",
      "source": [
        "# SQLite3 in Google Colab"
      ],
      "metadata": {
        "id": "-zB0dZFav_Al"
      }
    },
    {
      "cell_type": "markdown",
      "source": [
        "SQLite is a lightweight, file-based SQL database engine that requires no separate server process. It is self-contained and zero-configuration, meaning you can use it out of the box without installing or configuring a database server. SQLite databases are stored in a single file on disk (often with a .db extension), making them easy to move or version-control.\n",
        "\n",
        "Despite its simplicity, SQLite is ACID-compliant and supports most SQL features (tables, indexes, transactions, triggers, etc.), making it ideal for prototyping, embedded applications, and local data analysis."
      ],
      "metadata": {
        "id": "TKibv1YwwBIz"
      }
    },
    {
      "cell_type": "markdown",
      "source": [
        "## Setting up SQLite3"
      ],
      "metadata": {
        "id": "UPJMiZOwwHuJ"
      }
    },
    {
      "cell_type": "markdown",
      "source": [
        "Google Colab runs Python in a cloud VM, and Python’s built-in `sqlite3` module is available by default. You can start using SQLite without installing anything extra. Just import the library and create (or connect to) a database file. For example:"
      ],
      "metadata": {
        "id": "JzQCN5T6wJ6h"
      }
    },
    {
      "cell_type": "code",
      "execution_count": 1,
      "metadata": {
        "id": "juf-9Qh6te7o"
      },
      "outputs": [],
      "source": [
        "import sqlite3\n",
        "# Connect to a (new) SQLite database file; this creates 'data.db' in the working directory.\n",
        "conn = sqlite3.connect('data.db')\n",
        "cur = conn.cursor()"
      ]
    },
    {
      "cell_type": "markdown",
      "source": [
        "* This `connect() call either opens an existing file (data.db) or creates it if it doesn’t exist.\n",
        "\n",
        "* The returned conn object represents the database connection (backed by the file), and `conn.cursor()` creates a cursor for executing SQL commands.\n",
        "\n",
        "* By default SQLite is file-based, so you will see data.db in the Colab file browser after creation. (If you need persistent storage across sessions, you can mount Google Drive with from google.colab import drive and save the file there.)\n",
        "\n",
        "Tip: As an alternative, Colab supports the %%sql cell magic (from ipython-sql) to run SQL commands in cells. For example %load_ext sql then %%sql sqlite:///data.db. However, this tutorial focuses on using the sqlite3 Python API.\n",
        "\n",
        "* After creating a connection, you can execute SQL commands via cur.execute(...) and fetch results.\n",
        "\n",
        "An example on how to create tables and run queries:\n",
        "`cur.execute(\"CREATE TABLE movie(title, year, score)\")`\n",
        "This creates a new table. In SQLite, column types are flexible, so you can list column names without strict types if desired."
      ],
      "metadata": {
        "id": "otyoSnA_whJe"
      }
    },
    {
      "cell_type": "markdown",
      "source": [
        "## Basic CRUD Operations (Creating, Reading, Updating, Deleting)"
      ],
      "metadata": {
        "id": "QDHB0vf0xRnC"
      }
    },
    {
      "cell_type": "markdown",
      "source": [
        "### Creating Tables"
      ],
      "metadata": {
        "id": "1gtNPa6XxoPM"
      }
    },
    {
      "cell_type": "markdown",
      "source": [
        "To create a new table in the database, use the SQL CREATE TABLE statement."
      ],
      "metadata": {
        "id": "qo6TnGxMxrjb"
      }
    },
    {
      "cell_type": "code",
      "source": [
        "# Create a new table named 'students' with 3 columns.\n",
        "cur.execute(\"\"\"\n",
        "CREATE TABLE IF NOT EXISTS students (\n",
        "    id INTEGER PRIMARY KEY,\n",
        "    name TEXT,\n",
        "    grade REAL\n",
        ")\n",
        "\"\"\")\n",
        "\n",
        "conn.commit()  # Save (commit) the transaction"
      ],
      "metadata": {
        "id": "NXIl-LkFwdjO"
      },
      "execution_count": 2,
      "outputs": []
    },
    {
      "cell_type": "markdown",
      "source": [
        "This code creates a table students(id, name, grade) if it doesn’t already exist. Notice the call to `conn.commit()` in SQLite, DDL and DML statements (like CREATE, INSERT, UPDATE, DELETE) are executed within a transaction.\n",
        "\n",
        "The changes are not saved to the database file until you commit. The official docs state that INSERT (or other write operations) \"implicitly opens a transaction, which needs to be committed before changes are saved in the database\".\n",
        "\n",
        "Calling conn.commit() flushes the transaction. (If you do not call commit(), the changes will be lost when the connection closes.)"
      ],
      "metadata": {
        "id": "wLqDZUfvx6Cu"
      }
    },
    {
      "cell_type": "markdown",
      "source": [
        "### Inserting Data"
      ],
      "metadata": {
        "id": "nN9ZdhVmzNRL"
      }
    },
    {
      "cell_type": "markdown",
      "source": [
        "Once you have a table, insert data with `INSERT INTO`. For example:"
      ],
      "metadata": {
        "id": "QYF-B-qezPpf"
      }
    },
    {
      "cell_type": "code",
      "source": [
        "# Insert a single row (note use of placeholders ?)\n",
        "cur.execute(\"INSERT INTO students (name, grade) VALUES (?, ?)\",\n",
        "            (\"Alice\", 91.5))\n",
        "\n",
        "conn.commit()"
      ],
      "metadata": {
        "id": "uK3bWuGgxwrl"
      },
      "execution_count": 3,
      "outputs": []
    },
    {
      "cell_type": "markdown",
      "source": [
        "Using `?` placeholders is strongly recommended (instead of Python string formatting) for safety and correctness. Placeholders prevent SQL injection and ensure values are quoted properly. You pass a tuple of values as the second argument to execute.\n",
        "\n",
        "The Python docs caution: “Always use placeholders instead of string formatting to bind Python values to SQL statements, to avoid SQL injection attacks”."
      ],
      "metadata": {
        "id": "45UGmXaBzYN-"
      }
    },
    {
      "cell_type": "markdown",
      "source": [
        "For bulk inserts, use `executemany()`. For example:"
      ],
      "metadata": {
        "id": "YBSEj5ifzefB"
      }
    },
    {
      "cell_type": "code",
      "source": [
        "data = [\n",
        "    (\"Bob\",   85.0),\n",
        "    (\"Carol\", 92.0),\n",
        "    (\"Dave\",  88.5),\n",
        "]\n",
        "\n",
        "cur.executemany(\"INSERT INTO students (name, grade) VALUES (?, ?)\", data)\n",
        "conn.commit()"
      ],
      "metadata": {
        "id": "ZAQjFNLKzWVZ"
      },
      "execution_count": 4,
      "outputs": []
    },
    {
      "cell_type": "markdown",
      "source": [
        "Here `executemany()` inserts multiple rows in one call. Doing many inserts inside a single transaction (as shown) is much faster than committing each row separately. The Python tutorial example does exactly this with two lists of movie data and advises committing once after `executemany()`."
      ],
      "metadata": {
        "id": "MILRzDGoz1EZ"
      }
    },
    {
      "cell_type": "markdown",
      "source": [
        "### Querying and Fetching Data"
      ],
      "metadata": {
        "id": "6Q8uDx8fz3qc"
      }
    },
    {
      "cell_type": "markdown",
      "source": [
        "To read data, use `SELECT`. For example:"
      ],
      "metadata": {
        "id": "9TEcITbuz8oJ"
      }
    },
    {
      "cell_type": "code",
      "source": [
        "# Query all students\n",
        "cur.execute(\"SELECT * FROM students\")\n",
        "rows = cur.fetchall()\n",
        "for row in rows:\n",
        "    print(row)"
      ],
      "metadata": {
        "colab": {
          "base_uri": "https://localhost:8080/"
        },
        "id": "e4JVdzwVzzD0",
        "outputId": "869a2611-992d-465a-b752-9583724eec72"
      },
      "execution_count": 5,
      "outputs": [
        {
          "output_type": "stream",
          "name": "stdout",
          "text": [
            "(1, 'Alice', 91.5)\n",
            "(2, 'Bob', 85.0)\n",
            "(3, 'Carol', 92.0)\n",
            "(4, 'Dave', 88.5)\n"
          ]
        }
      ]
    },
    {
      "cell_type": "markdown",
      "source": [
        "`cur.fetchall()` returns a list of tuples, one tuple per row. Each tuple contains the column values for that row. For example, after inserting three students above, `fetchall()` might return:\n",
        "\n",
        "```\n",
        "[(1, 'Alice', 91.5), (2, 'Bob', 85.0), (3, 'Carol', 92.0), (4, 'Dave', 88.5)]\n",
        "```"
      ],
      "metadata": {
        "id": "V2jmTIpK0C2n"
      }
    },
    {
      "cell_type": "markdown",
      "source": [
        "where the first element is the `id` (auto-incremented), and the others are name and grade. You can also fetch rows one by one with `fetchone()` or iterate directly: `for row in cur.execute(\"SELECT name FROM students\"):`.\n",
        "\n",
        "You can use SQL clauses like `WHERE, ORDER BY, GROUP BY` as usual. For example:"
      ],
      "metadata": {
        "id": "N6xSyeEO0Ljp"
      }
    },
    {
      "cell_type": "code",
      "source": [
        "# Get the average grade (per student or overall):\n",
        "cur.execute(\"SELECT AVG(grade) FROM students\")\n",
        "avg = cur.fetchone()[0]\n",
        "print(\"Average grade:\", avg)"
      ],
      "metadata": {
        "colab": {
          "base_uri": "https://localhost:8080/"
        },
        "id": "Z1nV-O4o0AuZ",
        "outputId": "5c39ab62-ddce-4047-ef3c-6c9b601cba45"
      },
      "execution_count": 6,
      "outputs": [
        {
          "output_type": "stream",
          "name": "stdout",
          "text": [
            "Average grade: 89.25\n"
          ]
        }
      ]
    },
    {
      "cell_type": "markdown",
      "source": [
        "### Updating and Deleting Data"
      ],
      "metadata": {
        "id": "EaCWr05P0hIX"
      }
    },
    {
      "cell_type": "markdown",
      "source": [
        "Use `UPDATE` and `DELETE` for modifying data. For example:"
      ],
      "metadata": {
        "id": "fNYNXDYw0i7O"
      }
    },
    {
      "cell_type": "code",
      "source": [
        "# Give Bob a new grade\n",
        "cur.execute(\"UPDATE students SET grade = ? WHERE name = ?\", (89.0, \"Bob\"))\n",
        "conn.commit()\n",
        "\n",
        "# Delete a row\n",
        "cur.execute(\"DELETE FROM students WHERE name = ?\", (\"Dave\",))\n",
        "conn.commit()"
      ],
      "metadata": {
        "id": "10Zmc1uX0T02"
      },
      "execution_count": 7,
      "outputs": []
    },
    {
      "cell_type": "markdown",
      "source": [
        "Always use `?` placeholders for user-supplied values. After each `UPDATE` or `DELETE`, call `conn.commit()` to save changes. **(If an error occurs, you can call conn.rollback() to undo the current transaction before committing.)**"
      ],
      "metadata": {
        "id": "0Nubr2TW0n9D"
      }
    },
    {
      "cell_type": "code",
      "source": [
        "cur.execute(\"Select * from students\")\n",
        "rows2 = cur.fetchall()\n",
        "for row in rows2:\n",
        "  print(row)"
      ],
      "metadata": {
        "colab": {
          "base_uri": "https://localhost:8080/"
        },
        "id": "lQi9cryqO_nH",
        "outputId": "e3bb8429-be02-4d33-9d2e-04867b07da1b"
      },
      "execution_count": 8,
      "outputs": [
        {
          "output_type": "stream",
          "name": "stdout",
          "text": [
            "(1, 'Alice', 91.5)\n",
            "(2, 'Bob', 89.0)\n",
            "(3, 'Carol', 92.0)\n"
          ]
        }
      ]
    },
    {
      "cell_type": "markdown",
      "source": [
        "## Importing and Exporting Data"
      ],
      "metadata": {
        "id": "iO2vQlKH0zH8"
      }
    },
    {
      "cell_type": "markdown",
      "source": [
        "### Loading CSV Data into SQLite"
      ],
      "metadata": {
        "id": "_i42Bze803wT"
      }
    },
    {
      "cell_type": "markdown",
      "source": [
        "Often you’ll want to import external data (e.g. from CSV) into SQLite. In Colab, you can use shell commands or Python to download datasets. For example, to download a CSV:"
      ],
      "metadata": {
        "id": "qXY3XIAJ05Mf"
      }
    },
    {
      "cell_type": "code",
      "source": [
        "!wget -O iris.csv https://gist.githubusercontent.com/netj/8836201/raw/6f9306ad21398ea43cba4f7d537619d0e07d5ae3/iris.csv"
      ],
      "metadata": {
        "colab": {
          "base_uri": "https://localhost:8080/"
        },
        "id": "z3iqo-ik0mLc",
        "outputId": "689c13d2-d419-40bb-ddc8-0e08608ac135"
      },
      "execution_count": 9,
      "outputs": [
        {
          "output_type": "stream",
          "name": "stdout",
          "text": [
            "--2025-05-04 04:04:10--  https://gist.githubusercontent.com/netj/8836201/raw/6f9306ad21398ea43cba4f7d537619d0e07d5ae3/iris.csv\n",
            "Resolving gist.githubusercontent.com (gist.githubusercontent.com)... 185.199.111.133, 185.199.110.133, 185.199.109.133, ...\n",
            "Connecting to gist.githubusercontent.com (gist.githubusercontent.com)|185.199.111.133|:443... connected.\n",
            "HTTP request sent, awaiting response... 200 OK\n",
            "Length: 3975 (3.9K) [text/plain]\n",
            "Saving to: ‘iris.csv’\n",
            "\n",
            "iris.csv            100%[===================>]   3.88K  --.-KB/s    in 0s      \n",
            "\n",
            "2025-05-04 04:04:10 (44.1 MB/s) - ‘iris.csv’ saved [3975/3975]\n",
            "\n"
          ]
        }
      ]
    },
    {
      "cell_type": "markdown",
      "source": [
        "Then load it with Python. A straightforward way is to use Python’s csv module:"
      ],
      "metadata": {
        "id": "zcRd-nbS1Ntg"
      }
    },
    {
      "cell_type": "code",
      "source": [
        "import csv"
      ],
      "metadata": {
        "id": "HETXQT_UQHlv"
      },
      "execution_count": 10,
      "outputs": []
    },
    {
      "cell_type": "code",
      "source": [
        "cur.execute(\"CREATE TABLE IF NOT EXISTS people (sepal_length FLOAT, sepal_width FLOAT, petal_length FLOAT, petal_width FLOAT, variety TEXT)\")"
      ],
      "metadata": {
        "colab": {
          "base_uri": "https://localhost:8080/"
        },
        "id": "qSvWRQxx1GD5",
        "outputId": "cd884e99-6f1e-4cbb-be8c-e2fc73323d00"
      },
      "execution_count": 11,
      "outputs": [
        {
          "output_type": "execute_result",
          "data": {
            "text/plain": [
              "<sqlite3.Cursor at 0x78662fbede40>"
            ]
          },
          "metadata": {},
          "execution_count": 11
        }
      ]
    },
    {
      "cell_type": "code",
      "source": [
        "with open('iris.csv', 'r') as f:\n",
        "    reader = csv.reader(f)\n",
        "    header = next(reader)  # skip header row if present\n",
        "    rows = [tuple(row) for row in reader]"
      ],
      "metadata": {
        "id": "9rrhWxNf12cW"
      },
      "execution_count": 12,
      "outputs": []
    },
    {
      "cell_type": "code",
      "source": [
        "rows"
      ],
      "metadata": {
        "colab": {
          "base_uri": "https://localhost:8080/"
        },
        "id": "u7t28T2GQtl2",
        "outputId": "d8ac6698-ffed-4c13-c611-4442797396e9"
      },
      "execution_count": 13,
      "outputs": [
        {
          "output_type": "execute_result",
          "data": {
            "text/plain": [
              "[('5.1', '3.5', '1.4', '.2', 'Setosa'),\n",
              " ('4.9', '3', '1.4', '.2', 'Setosa'),\n",
              " ('4.7', '3.2', '1.3', '.2', 'Setosa'),\n",
              " ('4.6', '3.1', '1.5', '.2', 'Setosa'),\n",
              " ('5', '3.6', '1.4', '.2', 'Setosa'),\n",
              " ('5.4', '3.9', '1.7', '.4', 'Setosa'),\n",
              " ('4.6', '3.4', '1.4', '.3', 'Setosa'),\n",
              " ('5', '3.4', '1.5', '.2', 'Setosa'),\n",
              " ('4.4', '2.9', '1.4', '.2', 'Setosa'),\n",
              " ('4.9', '3.1', '1.5', '.1', 'Setosa'),\n",
              " ('5.4', '3.7', '1.5', '.2', 'Setosa'),\n",
              " ('4.8', '3.4', '1.6', '.2', 'Setosa'),\n",
              " ('4.8', '3', '1.4', '.1', 'Setosa'),\n",
              " ('4.3', '3', '1.1', '.1', 'Setosa'),\n",
              " ('5.8', '4', '1.2', '.2', 'Setosa'),\n",
              " ('5.7', '4.4', '1.5', '.4', 'Setosa'),\n",
              " ('5.4', '3.9', '1.3', '.4', 'Setosa'),\n",
              " ('5.1', '3.5', '1.4', '.3', 'Setosa'),\n",
              " ('5.7', '3.8', '1.7', '.3', 'Setosa'),\n",
              " ('5.1', '3.8', '1.5', '.3', 'Setosa'),\n",
              " ('5.4', '3.4', '1.7', '.2', 'Setosa'),\n",
              " ('5.1', '3.7', '1.5', '.4', 'Setosa'),\n",
              " ('4.6', '3.6', '1', '.2', 'Setosa'),\n",
              " ('5.1', '3.3', '1.7', '.5', 'Setosa'),\n",
              " ('4.8', '3.4', '1.9', '.2', 'Setosa'),\n",
              " ('5', '3', '1.6', '.2', 'Setosa'),\n",
              " ('5', '3.4', '1.6', '.4', 'Setosa'),\n",
              " ('5.2', '3.5', '1.5', '.2', 'Setosa'),\n",
              " ('5.2', '3.4', '1.4', '.2', 'Setosa'),\n",
              " ('4.7', '3.2', '1.6', '.2', 'Setosa'),\n",
              " ('4.8', '3.1', '1.6', '.2', 'Setosa'),\n",
              " ('5.4', '3.4', '1.5', '.4', 'Setosa'),\n",
              " ('5.2', '4.1', '1.5', '.1', 'Setosa'),\n",
              " ('5.5', '4.2', '1.4', '.2', 'Setosa'),\n",
              " ('4.9', '3.1', '1.5', '.2', 'Setosa'),\n",
              " ('5', '3.2', '1.2', '.2', 'Setosa'),\n",
              " ('5.5', '3.5', '1.3', '.2', 'Setosa'),\n",
              " ('4.9', '3.6', '1.4', '.1', 'Setosa'),\n",
              " ('4.4', '3', '1.3', '.2', 'Setosa'),\n",
              " ('5.1', '3.4', '1.5', '.2', 'Setosa'),\n",
              " ('5', '3.5', '1.3', '.3', 'Setosa'),\n",
              " ('4.5', '2.3', '1.3', '.3', 'Setosa'),\n",
              " ('4.4', '3.2', '1.3', '.2', 'Setosa'),\n",
              " ('5', '3.5', '1.6', '.6', 'Setosa'),\n",
              " ('5.1', '3.8', '1.9', '.4', 'Setosa'),\n",
              " ('4.8', '3', '1.4', '.3', 'Setosa'),\n",
              " ('5.1', '3.8', '1.6', '.2', 'Setosa'),\n",
              " ('4.6', '3.2', '1.4', '.2', 'Setosa'),\n",
              " ('5.3', '3.7', '1.5', '.2', 'Setosa'),\n",
              " ('5', '3.3', '1.4', '.2', 'Setosa'),\n",
              " ('7', '3.2', '4.7', '1.4', 'Versicolor'),\n",
              " ('6.4', '3.2', '4.5', '1.5', 'Versicolor'),\n",
              " ('6.9', '3.1', '4.9', '1.5', 'Versicolor'),\n",
              " ('5.5', '2.3', '4', '1.3', 'Versicolor'),\n",
              " ('6.5', '2.8', '4.6', '1.5', 'Versicolor'),\n",
              " ('5.7', '2.8', '4.5', '1.3', 'Versicolor'),\n",
              " ('6.3', '3.3', '4.7', '1.6', 'Versicolor'),\n",
              " ('4.9', '2.4', '3.3', '1', 'Versicolor'),\n",
              " ('6.6', '2.9', '4.6', '1.3', 'Versicolor'),\n",
              " ('5.2', '2.7', '3.9', '1.4', 'Versicolor'),\n",
              " ('5', '2', '3.5', '1', 'Versicolor'),\n",
              " ('5.9', '3', '4.2', '1.5', 'Versicolor'),\n",
              " ('6', '2.2', '4', '1', 'Versicolor'),\n",
              " ('6.1', '2.9', '4.7', '1.4', 'Versicolor'),\n",
              " ('5.6', '2.9', '3.6', '1.3', 'Versicolor'),\n",
              " ('6.7', '3.1', '4.4', '1.4', 'Versicolor'),\n",
              " ('5.6', '3', '4.5', '1.5', 'Versicolor'),\n",
              " ('5.8', '2.7', '4.1', '1', 'Versicolor'),\n",
              " ('6.2', '2.2', '4.5', '1.5', 'Versicolor'),\n",
              " ('5.6', '2.5', '3.9', '1.1', 'Versicolor'),\n",
              " ('5.9', '3.2', '4.8', '1.8', 'Versicolor'),\n",
              " ('6.1', '2.8', '4', '1.3', 'Versicolor'),\n",
              " ('6.3', '2.5', '4.9', '1.5', 'Versicolor'),\n",
              " ('6.1', '2.8', '4.7', '1.2', 'Versicolor'),\n",
              " ('6.4', '2.9', '4.3', '1.3', 'Versicolor'),\n",
              " ('6.6', '3', '4.4', '1.4', 'Versicolor'),\n",
              " ('6.8', '2.8', '4.8', '1.4', 'Versicolor'),\n",
              " ('6.7', '3', '5', '1.7', 'Versicolor'),\n",
              " ('6', '2.9', '4.5', '1.5', 'Versicolor'),\n",
              " ('5.7', '2.6', '3.5', '1', 'Versicolor'),\n",
              " ('5.5', '2.4', '3.8', '1.1', 'Versicolor'),\n",
              " ('5.5', '2.4', '3.7', '1', 'Versicolor'),\n",
              " ('5.8', '2.7', '3.9', '1.2', 'Versicolor'),\n",
              " ('6', '2.7', '5.1', '1.6', 'Versicolor'),\n",
              " ('5.4', '3', '4.5', '1.5', 'Versicolor'),\n",
              " ('6', '3.4', '4.5', '1.6', 'Versicolor'),\n",
              " ('6.7', '3.1', '4.7', '1.5', 'Versicolor'),\n",
              " ('6.3', '2.3', '4.4', '1.3', 'Versicolor'),\n",
              " ('5.6', '3', '4.1', '1.3', 'Versicolor'),\n",
              " ('5.5', '2.5', '4', '1.3', 'Versicolor'),\n",
              " ('5.5', '2.6', '4.4', '1.2', 'Versicolor'),\n",
              " ('6.1', '3', '4.6', '1.4', 'Versicolor'),\n",
              " ('5.8', '2.6', '4', '1.2', 'Versicolor'),\n",
              " ('5', '2.3', '3.3', '1', 'Versicolor'),\n",
              " ('5.6', '2.7', '4.2', '1.3', 'Versicolor'),\n",
              " ('5.7', '3', '4.2', '1.2', 'Versicolor'),\n",
              " ('5.7', '2.9', '4.2', '1.3', 'Versicolor'),\n",
              " ('6.2', '2.9', '4.3', '1.3', 'Versicolor'),\n",
              " ('5.1', '2.5', '3', '1.1', 'Versicolor'),\n",
              " ('5.7', '2.8', '4.1', '1.3', 'Versicolor'),\n",
              " ('6.3', '3.3', '6', '2.5', 'Virginica'),\n",
              " ('5.8', '2.7', '5.1', '1.9', 'Virginica'),\n",
              " ('7.1', '3', '5.9', '2.1', 'Virginica'),\n",
              " ('6.3', '2.9', '5.6', '1.8', 'Virginica'),\n",
              " ('6.5', '3', '5.8', '2.2', 'Virginica'),\n",
              " ('7.6', '3', '6.6', '2.1', 'Virginica'),\n",
              " ('4.9', '2.5', '4.5', '1.7', 'Virginica'),\n",
              " ('7.3', '2.9', '6.3', '1.8', 'Virginica'),\n",
              " ('6.7', '2.5', '5.8', '1.8', 'Virginica'),\n",
              " ('7.2', '3.6', '6.1', '2.5', 'Virginica'),\n",
              " ('6.5', '3.2', '5.1', '2', 'Virginica'),\n",
              " ('6.4', '2.7', '5.3', '1.9', 'Virginica'),\n",
              " ('6.8', '3', '5.5', '2.1', 'Virginica'),\n",
              " ('5.7', '2.5', '5', '2', 'Virginica'),\n",
              " ('5.8', '2.8', '5.1', '2.4', 'Virginica'),\n",
              " ('6.4', '3.2', '5.3', '2.3', 'Virginica'),\n",
              " ('6.5', '3', '5.5', '1.8', 'Virginica'),\n",
              " ('7.7', '3.8', '6.7', '2.2', 'Virginica'),\n",
              " ('7.7', '2.6', '6.9', '2.3', 'Virginica'),\n",
              " ('6', '2.2', '5', '1.5', 'Virginica'),\n",
              " ('6.9', '3.2', '5.7', '2.3', 'Virginica'),\n",
              " ('5.6', '2.8', '4.9', '2', 'Virginica'),\n",
              " ('7.7', '2.8', '6.7', '2', 'Virginica'),\n",
              " ('6.3', '2.7', '4.9', '1.8', 'Virginica'),\n",
              " ('6.7', '3.3', '5.7', '2.1', 'Virginica'),\n",
              " ('7.2', '3.2', '6', '1.8', 'Virginica'),\n",
              " ('6.2', '2.8', '4.8', '1.8', 'Virginica'),\n",
              " ('6.1', '3', '4.9', '1.8', 'Virginica'),\n",
              " ('6.4', '2.8', '5.6', '2.1', 'Virginica'),\n",
              " ('7.2', '3', '5.8', '1.6', 'Virginica'),\n",
              " ('7.4', '2.8', '6.1', '1.9', 'Virginica'),\n",
              " ('7.9', '3.8', '6.4', '2', 'Virginica'),\n",
              " ('6.4', '2.8', '5.6', '2.2', 'Virginica'),\n",
              " ('6.3', '2.8', '5.1', '1.5', 'Virginica'),\n",
              " ('6.1', '2.6', '5.6', '1.4', 'Virginica'),\n",
              " ('7.7', '3', '6.1', '2.3', 'Virginica'),\n",
              " ('6.3', '3.4', '5.6', '2.4', 'Virginica'),\n",
              " ('6.4', '3.1', '5.5', '1.8', 'Virginica'),\n",
              " ('6', '3', '4.8', '1.8', 'Virginica'),\n",
              " ('6.9', '3.1', '5.4', '2.1', 'Virginica'),\n",
              " ('6.7', '3.1', '5.6', '2.4', 'Virginica'),\n",
              " ('6.9', '3.1', '5.1', '2.3', 'Virginica'),\n",
              " ('5.8', '2.7', '5.1', '1.9', 'Virginica'),\n",
              " ('6.8', '3.2', '5.9', '2.3', 'Virginica'),\n",
              " ('6.7', '3.3', '5.7', '2.5', 'Virginica'),\n",
              " ('6.7', '3', '5.2', '2.3', 'Virginica'),\n",
              " ('6.3', '2.5', '5', '1.9', 'Virginica'),\n",
              " ('6.5', '3', '5.2', '2', 'Virginica'),\n",
              " ('6.2', '3.4', '5.4', '2.3', 'Virginica'),\n",
              " ('5.9', '3', '5.1', '1.8', 'Virginica')]"
            ]
          },
          "metadata": {},
          "execution_count": 13
        }
      ]
    },
    {
      "cell_type": "code",
      "source": [
        "cur.executemany(\"INSERT INTO people VALUES (?, ?, ?, ?, ?)\", rows)\n",
        "conn.commit()"
      ],
      "metadata": {
        "id": "aDS00Zaj1_Tg"
      },
      "execution_count": 14,
      "outputs": []
    },
    {
      "cell_type": "markdown",
      "source": [
        "This reads rows from `iris.csv` into a list of tuples, then inserts them. (Adjust the CREATE TABLE columns to match your CSV structure.)\n",
        "\n",
        "Alternatively, pandas makes this easier. You can simply `pd.read_csv()` and use `to_sql`."
      ],
      "metadata": {
        "id": "r_jpsOI22FM4"
      }
    },
    {
      "cell_type": "markdown",
      "source": [
        "### Exporting SQLite Data"
      ],
      "metadata": {
        "id": "Kv3s5a1u2UGh"
      }
    },
    {
      "cell_type": "markdown",
      "source": [
        "You can also export query results to CSV or Pandas. For example, to write a query to CSV:"
      ],
      "metadata": {
        "id": "FRWOUHFP2ZJa"
      }
    },
    {
      "cell_type": "code",
      "source": [
        "import csv\n",
        "cur.execute(\"SELECT name, grade FROM students\")\n",
        "rows = cur.fetchall()\n",
        "\n",
        "with open('grades.csv', 'w', newline='') as f:\n",
        "    writer = csv.writer(f)\n",
        "    writer.writerow([d[0] for d in cur.description])  # header\n",
        "    writer.writerows(rows)"
      ],
      "metadata": {
        "id": "dg5Jm_Z02BXG"
      },
      "execution_count": 15,
      "outputs": []
    },
    {
      "cell_type": "markdown",
      "source": [
        "This writes query results to grades.csv. In Colab you can then download it or save it to Drive."
      ],
      "metadata": {
        "id": "ROtKGvpk2kSv"
      }
    },
    {
      "cell_type": "markdown",
      "source": [
        "### SQLite and Pandas Integration"
      ],
      "metadata": {
        "id": "OcMIrIsF2nFW"
      }
    },
    {
      "cell_type": "markdown",
      "source": [
        "pandas provides convenient functions to move data between DataFrames and SQL."
      ],
      "metadata": {
        "id": "SdW2_D5t2p4Q"
      }
    },
    {
      "cell_type": "markdown",
      "source": [
        "* **DataFrame → SQL:** Use `DataFrame.to_sql()`. This writes the DataFrame to a database table. For example:"
      ],
      "metadata": {
        "id": "SHCKr83K2x7X"
      }
    },
    {
      "cell_type": "code",
      "source": [
        "import pandas as pd\n",
        "\n",
        "# Suppose df is a pandas DataFrame\n",
        "df = pd.DataFrame({\n",
        "    'id': [1,2,3],\n",
        "    'name': ['Alice','Bob','Carol'],\n",
        "    'score': [85, 92, 78]\n",
        "})\n",
        "\n",
        "df.to_sql('scores', conn, if_exists='replace', index=False)"
      ],
      "metadata": {
        "colab": {
          "base_uri": "https://localhost:8080/"
        },
        "id": "EUb_D2Zj2gju",
        "outputId": "3ab697e7-ef10-42ab-cd95-92bcfffb7be0"
      },
      "execution_count": 16,
      "outputs": [
        {
          "output_type": "execute_result",
          "data": {
            "text/plain": [
              "3"
            ]
          },
          "metadata": {},
          "execution_count": 16
        }
      ]
    },
    {
      "cell_type": "markdown",
      "source": [
        "* This creates (or replaces) the table scores with the DataFrame contents. As the pandas documentation states, “Write records stored in a DataFrame to a SQL database”.\n",
        "* The `if_exists` parameter can be `'fail', 'replace', or 'append'` depending on whether you want to overwrite or add to an existing table."
      ],
      "metadata": {
        "id": "ryoqyCCk2-kx"
      }
    },
    {
      "cell_type": "markdown",
      "source": [
        "* **SQL → DataFrame:** Use `pandas.read_sql()` (or `read_sql_query`). For example:"
      ],
      "metadata": {
        "id": "SYms6kRY3LyD"
      }
    },
    {
      "cell_type": "code",
      "source": [
        "df_scores = pd.read_sql(\"SELECT name, score FROM scores WHERE score > 80\", conn)"
      ],
      "metadata": {
        "id": "Ck9dexZb25rH"
      },
      "execution_count": 17,
      "outputs": []
    },
    {
      "cell_type": "code",
      "source": [
        "df_scores"
      ],
      "metadata": {
        "colab": {
          "base_uri": "https://localhost:8080/",
          "height": 125
        },
        "id": "hPYCDTwY3UQH",
        "outputId": "f2eba798-b657-4c41-e592-40cac14a0be4"
      },
      "execution_count": 18,
      "outputs": [
        {
          "output_type": "execute_result",
          "data": {
            "text/plain": [
              "    name  score\n",
              "0  Alice     85\n",
              "1    Bob     92"
            ],
            "text/html": [
              "\n",
              "  <div id=\"df-0d30fa72-3bb4-4199-8762-995c5f69f8c3\" class=\"colab-df-container\">\n",
              "    <div>\n",
              "<style scoped>\n",
              "    .dataframe tbody tr th:only-of-type {\n",
              "        vertical-align: middle;\n",
              "    }\n",
              "\n",
              "    .dataframe tbody tr th {\n",
              "        vertical-align: top;\n",
              "    }\n",
              "\n",
              "    .dataframe thead th {\n",
              "        text-align: right;\n",
              "    }\n",
              "</style>\n",
              "<table border=\"1\" class=\"dataframe\">\n",
              "  <thead>\n",
              "    <tr style=\"text-align: right;\">\n",
              "      <th></th>\n",
              "      <th>name</th>\n",
              "      <th>score</th>\n",
              "    </tr>\n",
              "  </thead>\n",
              "  <tbody>\n",
              "    <tr>\n",
              "      <th>0</th>\n",
              "      <td>Alice</td>\n",
              "      <td>85</td>\n",
              "    </tr>\n",
              "    <tr>\n",
              "      <th>1</th>\n",
              "      <td>Bob</td>\n",
              "      <td>92</td>\n",
              "    </tr>\n",
              "  </tbody>\n",
              "</table>\n",
              "</div>\n",
              "    <div class=\"colab-df-buttons\">\n",
              "\n",
              "  <div class=\"colab-df-container\">\n",
              "    <button class=\"colab-df-convert\" onclick=\"convertToInteractive('df-0d30fa72-3bb4-4199-8762-995c5f69f8c3')\"\n",
              "            title=\"Convert this dataframe to an interactive table.\"\n",
              "            style=\"display:none;\">\n",
              "\n",
              "  <svg xmlns=\"http://www.w3.org/2000/svg\" height=\"24px\" viewBox=\"0 -960 960 960\">\n",
              "    <path d=\"M120-120v-720h720v720H120Zm60-500h600v-160H180v160Zm220 220h160v-160H400v160Zm0 220h160v-160H400v160ZM180-400h160v-160H180v160Zm440 0h160v-160H620v160ZM180-180h160v-160H180v160Zm440 0h160v-160H620v160Z\"/>\n",
              "  </svg>\n",
              "    </button>\n",
              "\n",
              "  <style>\n",
              "    .colab-df-container {\n",
              "      display:flex;\n",
              "      gap: 12px;\n",
              "    }\n",
              "\n",
              "    .colab-df-convert {\n",
              "      background-color: #E8F0FE;\n",
              "      border: none;\n",
              "      border-radius: 50%;\n",
              "      cursor: pointer;\n",
              "      display: none;\n",
              "      fill: #1967D2;\n",
              "      height: 32px;\n",
              "      padding: 0 0 0 0;\n",
              "      width: 32px;\n",
              "    }\n",
              "\n",
              "    .colab-df-convert:hover {\n",
              "      background-color: #E2EBFA;\n",
              "      box-shadow: 0px 1px 2px rgba(60, 64, 67, 0.3), 0px 1px 3px 1px rgba(60, 64, 67, 0.15);\n",
              "      fill: #174EA6;\n",
              "    }\n",
              "\n",
              "    .colab-df-buttons div {\n",
              "      margin-bottom: 4px;\n",
              "    }\n",
              "\n",
              "    [theme=dark] .colab-df-convert {\n",
              "      background-color: #3B4455;\n",
              "      fill: #D2E3FC;\n",
              "    }\n",
              "\n",
              "    [theme=dark] .colab-df-convert:hover {\n",
              "      background-color: #434B5C;\n",
              "      box-shadow: 0px 1px 3px 1px rgba(0, 0, 0, 0.15);\n",
              "      filter: drop-shadow(0px 1px 2px rgba(0, 0, 0, 0.3));\n",
              "      fill: #FFFFFF;\n",
              "    }\n",
              "  </style>\n",
              "\n",
              "    <script>\n",
              "      const buttonEl =\n",
              "        document.querySelector('#df-0d30fa72-3bb4-4199-8762-995c5f69f8c3 button.colab-df-convert');\n",
              "      buttonEl.style.display =\n",
              "        google.colab.kernel.accessAllowed ? 'block' : 'none';\n",
              "\n",
              "      async function convertToInteractive(key) {\n",
              "        const element = document.querySelector('#df-0d30fa72-3bb4-4199-8762-995c5f69f8c3');\n",
              "        const dataTable =\n",
              "          await google.colab.kernel.invokeFunction('convertToInteractive',\n",
              "                                                    [key], {});\n",
              "        if (!dataTable) return;\n",
              "\n",
              "        const docLinkHtml = 'Like what you see? Visit the ' +\n",
              "          '<a target=\"_blank\" href=https://colab.research.google.com/notebooks/data_table.ipynb>data table notebook</a>'\n",
              "          + ' to learn more about interactive tables.';\n",
              "        element.innerHTML = '';\n",
              "        dataTable['output_type'] = 'display_data';\n",
              "        await google.colab.output.renderOutput(dataTable, element);\n",
              "        const docLink = document.createElement('div');\n",
              "        docLink.innerHTML = docLinkHtml;\n",
              "        element.appendChild(docLink);\n",
              "      }\n",
              "    </script>\n",
              "  </div>\n",
              "\n",
              "\n",
              "    <div id=\"df-386800d0-0f43-4715-baa5-d4bc5c8a0cdf\">\n",
              "      <button class=\"colab-df-quickchart\" onclick=\"quickchart('df-386800d0-0f43-4715-baa5-d4bc5c8a0cdf')\"\n",
              "                title=\"Suggest charts\"\n",
              "                style=\"display:none;\">\n",
              "\n",
              "<svg xmlns=\"http://www.w3.org/2000/svg\" height=\"24px\"viewBox=\"0 0 24 24\"\n",
              "     width=\"24px\">\n",
              "    <g>\n",
              "        <path d=\"M19 3H5c-1.1 0-2 .9-2 2v14c0 1.1.9 2 2 2h14c1.1 0 2-.9 2-2V5c0-1.1-.9-2-2-2zM9 17H7v-7h2v7zm4 0h-2V7h2v10zm4 0h-2v-4h2v4z\"/>\n",
              "    </g>\n",
              "</svg>\n",
              "      </button>\n",
              "\n",
              "<style>\n",
              "  .colab-df-quickchart {\n",
              "      --bg-color: #E8F0FE;\n",
              "      --fill-color: #1967D2;\n",
              "      --hover-bg-color: #E2EBFA;\n",
              "      --hover-fill-color: #174EA6;\n",
              "      --disabled-fill-color: #AAA;\n",
              "      --disabled-bg-color: #DDD;\n",
              "  }\n",
              "\n",
              "  [theme=dark] .colab-df-quickchart {\n",
              "      --bg-color: #3B4455;\n",
              "      --fill-color: #D2E3FC;\n",
              "      --hover-bg-color: #434B5C;\n",
              "      --hover-fill-color: #FFFFFF;\n",
              "      --disabled-bg-color: #3B4455;\n",
              "      --disabled-fill-color: #666;\n",
              "  }\n",
              "\n",
              "  .colab-df-quickchart {\n",
              "    background-color: var(--bg-color);\n",
              "    border: none;\n",
              "    border-radius: 50%;\n",
              "    cursor: pointer;\n",
              "    display: none;\n",
              "    fill: var(--fill-color);\n",
              "    height: 32px;\n",
              "    padding: 0;\n",
              "    width: 32px;\n",
              "  }\n",
              "\n",
              "  .colab-df-quickchart:hover {\n",
              "    background-color: var(--hover-bg-color);\n",
              "    box-shadow: 0 1px 2px rgba(60, 64, 67, 0.3), 0 1px 3px 1px rgba(60, 64, 67, 0.15);\n",
              "    fill: var(--button-hover-fill-color);\n",
              "  }\n",
              "\n",
              "  .colab-df-quickchart-complete:disabled,\n",
              "  .colab-df-quickchart-complete:disabled:hover {\n",
              "    background-color: var(--disabled-bg-color);\n",
              "    fill: var(--disabled-fill-color);\n",
              "    box-shadow: none;\n",
              "  }\n",
              "\n",
              "  .colab-df-spinner {\n",
              "    border: 2px solid var(--fill-color);\n",
              "    border-color: transparent;\n",
              "    border-bottom-color: var(--fill-color);\n",
              "    animation:\n",
              "      spin 1s steps(1) infinite;\n",
              "  }\n",
              "\n",
              "  @keyframes spin {\n",
              "    0% {\n",
              "      border-color: transparent;\n",
              "      border-bottom-color: var(--fill-color);\n",
              "      border-left-color: var(--fill-color);\n",
              "    }\n",
              "    20% {\n",
              "      border-color: transparent;\n",
              "      border-left-color: var(--fill-color);\n",
              "      border-top-color: var(--fill-color);\n",
              "    }\n",
              "    30% {\n",
              "      border-color: transparent;\n",
              "      border-left-color: var(--fill-color);\n",
              "      border-top-color: var(--fill-color);\n",
              "      border-right-color: var(--fill-color);\n",
              "    }\n",
              "    40% {\n",
              "      border-color: transparent;\n",
              "      border-right-color: var(--fill-color);\n",
              "      border-top-color: var(--fill-color);\n",
              "    }\n",
              "    60% {\n",
              "      border-color: transparent;\n",
              "      border-right-color: var(--fill-color);\n",
              "    }\n",
              "    80% {\n",
              "      border-color: transparent;\n",
              "      border-right-color: var(--fill-color);\n",
              "      border-bottom-color: var(--fill-color);\n",
              "    }\n",
              "    90% {\n",
              "      border-color: transparent;\n",
              "      border-bottom-color: var(--fill-color);\n",
              "    }\n",
              "  }\n",
              "</style>\n",
              "\n",
              "      <script>\n",
              "        async function quickchart(key) {\n",
              "          const quickchartButtonEl =\n",
              "            document.querySelector('#' + key + ' button');\n",
              "          quickchartButtonEl.disabled = true;  // To prevent multiple clicks.\n",
              "          quickchartButtonEl.classList.add('colab-df-spinner');\n",
              "          try {\n",
              "            const charts = await google.colab.kernel.invokeFunction(\n",
              "                'suggestCharts', [key], {});\n",
              "          } catch (error) {\n",
              "            console.error('Error during call to suggestCharts:', error);\n",
              "          }\n",
              "          quickchartButtonEl.classList.remove('colab-df-spinner');\n",
              "          quickchartButtonEl.classList.add('colab-df-quickchart-complete');\n",
              "        }\n",
              "        (() => {\n",
              "          let quickchartButtonEl =\n",
              "            document.querySelector('#df-386800d0-0f43-4715-baa5-d4bc5c8a0cdf button');\n",
              "          quickchartButtonEl.style.display =\n",
              "            google.colab.kernel.accessAllowed ? 'block' : 'none';\n",
              "        })();\n",
              "      </script>\n",
              "    </div>\n",
              "\n",
              "  <div id=\"id_eecf142c-0ce6-4616-b3de-b4dc20d3e960\">\n",
              "    <style>\n",
              "      .colab-df-generate {\n",
              "        background-color: #E8F0FE;\n",
              "        border: none;\n",
              "        border-radius: 50%;\n",
              "        cursor: pointer;\n",
              "        display: none;\n",
              "        fill: #1967D2;\n",
              "        height: 32px;\n",
              "        padding: 0 0 0 0;\n",
              "        width: 32px;\n",
              "      }\n",
              "\n",
              "      .colab-df-generate:hover {\n",
              "        background-color: #E2EBFA;\n",
              "        box-shadow: 0px 1px 2px rgba(60, 64, 67, 0.3), 0px 1px 3px 1px rgba(60, 64, 67, 0.15);\n",
              "        fill: #174EA6;\n",
              "      }\n",
              "\n",
              "      [theme=dark] .colab-df-generate {\n",
              "        background-color: #3B4455;\n",
              "        fill: #D2E3FC;\n",
              "      }\n",
              "\n",
              "      [theme=dark] .colab-df-generate:hover {\n",
              "        background-color: #434B5C;\n",
              "        box-shadow: 0px 1px 3px 1px rgba(0, 0, 0, 0.15);\n",
              "        filter: drop-shadow(0px 1px 2px rgba(0, 0, 0, 0.3));\n",
              "        fill: #FFFFFF;\n",
              "      }\n",
              "    </style>\n",
              "    <button class=\"colab-df-generate\" onclick=\"generateWithVariable('df_scores')\"\n",
              "            title=\"Generate code using this dataframe.\"\n",
              "            style=\"display:none;\">\n",
              "\n",
              "  <svg xmlns=\"http://www.w3.org/2000/svg\" height=\"24px\"viewBox=\"0 0 24 24\"\n",
              "       width=\"24px\">\n",
              "    <path d=\"M7,19H8.4L18.45,9,17,7.55,7,17.6ZM5,21V16.75L18.45,3.32a2,2,0,0,1,2.83,0l1.4,1.43a1.91,1.91,0,0,1,.58,1.4,1.91,1.91,0,0,1-.58,1.4L9.25,21ZM18.45,9,17,7.55Zm-12,3A5.31,5.31,0,0,0,4.9,8.1,5.31,5.31,0,0,0,1,6.5,5.31,5.31,0,0,0,4.9,4.9,5.31,5.31,0,0,0,6.5,1,5.31,5.31,0,0,0,8.1,4.9,5.31,5.31,0,0,0,12,6.5,5.46,5.46,0,0,0,6.5,12Z\"/>\n",
              "  </svg>\n",
              "    </button>\n",
              "    <script>\n",
              "      (() => {\n",
              "      const buttonEl =\n",
              "        document.querySelector('#id_eecf142c-0ce6-4616-b3de-b4dc20d3e960 button.colab-df-generate');\n",
              "      buttonEl.style.display =\n",
              "        google.colab.kernel.accessAllowed ? 'block' : 'none';\n",
              "\n",
              "      buttonEl.onclick = () => {\n",
              "        google.colab.notebook.generateWithVariable('df_scores');\n",
              "      }\n",
              "      })();\n",
              "    </script>\n",
              "  </div>\n",
              "\n",
              "    </div>\n",
              "  </div>\n"
            ],
            "application/vnd.google.colaboratory.intrinsic+json": {
              "type": "dataframe",
              "variable_name": "df_scores",
              "summary": "{\n  \"name\": \"df_scores\",\n  \"rows\": 2,\n  \"fields\": [\n    {\n      \"column\": \"name\",\n      \"properties\": {\n        \"dtype\": \"string\",\n        \"num_unique_values\": 2,\n        \"samples\": [\n          \"Bob\",\n          \"Alice\"\n        ],\n        \"semantic_type\": \"\",\n        \"description\": \"\"\n      }\n    },\n    {\n      \"column\": \"score\",\n      \"properties\": {\n        \"dtype\": \"number\",\n        \"std\": 4,\n        \"min\": 85,\n        \"max\": 92,\n        \"num_unique_values\": 2,\n        \"samples\": [\n          92,\n          85\n        ],\n        \"semantic_type\": \"\",\n        \"description\": \"\"\n      }\n    }\n  ]\n}"
            }
          },
          "metadata": {},
          "execution_count": 18
        }
      ]
    },
    {
      "cell_type": "markdown",
      "source": [
        "* This runs the SQL query and returns the results as a DataFrame `df_scores`. The pandas docs say “Read SQL query or database table into a DataFrame.\"\n",
        "* This is very useful for analysis: you can use SQL to filter/aggregate data, then load into pandas for further processing.\n"
      ],
      "metadata": {
        "id": "fsFDogZS3W5N"
      }
    },
    {
      "cell_type": "markdown",
      "source": [
        "Together, these features let you combine the efficiency of SQL for data loading/manipulation with pandas for analytics. For example, you might load a large CSV into an SQLite table, then use `pd.read_sql(\"SELECT ...\", conn)` to retrieve just a subset or summary into a DataFrame."
      ],
      "metadata": {
        "id": "67_BEWxQ3djx"
      }
    },
    {
      "cell_type": "markdown",
      "source": [
        "## Joins and Relational Queries"
      ],
      "metadata": {
        "id": "Ai7ztqHx31jR"
      }
    },
    {
      "cell_type": "markdown",
      "source": [
        "One strength of SQL is joining multiple tables. In SQLite you can use standard `JOIN syntax`. For example, suppose we have two tables employees and departments:"
      ],
      "metadata": {
        "id": "vnVO4LlW34YR"
      }
    },
    {
      "cell_type": "code",
      "source": [
        "cur.execute(\"CREATE TABLE dept(id INTEGER PRIMARY KEY, name TEXT)\")\n",
        "cur.execute(\"CREATE TABLE emp(id INTEGER PRIMARY KEY, name TEXT, deptid INTEGER)\")\n",
        "\n",
        "cur.executemany(\"INSERT INTO dept VALUES (?, ?)\", [(1, \"Sales\"), (2, \"IT\")])\n",
        "cur.executemany(\"INSERT INTO emp VALUES (?, ?, ?)\",\n",
        "                [(101, \"Alice\", 1), (102, \"Bob\", 2), (103, \"Carol\", 1)])\n",
        "conn.commit()\n"
      ],
      "metadata": {
        "id": "fTnPtbDY3VXb"
      },
      "execution_count": 20,
      "outputs": []
    },
    {
      "cell_type": "markdown",
      "source": [
        "To combine them, use an INNER JOIN:"
      ],
      "metadata": {
        "id": "Utxdc52b4BIX"
      }
    },
    {
      "cell_type": "code",
      "source": [
        "query = \"\"\"\n",
        "SELECT e.name AS employee, d.name AS department\n",
        "FROM emp AS e\n",
        "INNER JOIN dept AS d ON e.deptid = d.id\n",
        "\"\"\"\n",
        "\n",
        "cur.execute(query)\n",
        "for row in cur.fetchall():\n",
        "    print(row)\n",
        "# ('Alice', 'Sales'), ('Bob', 'IT'), ('Carol', 'Sales')"
      ],
      "metadata": {
        "colab": {
          "base_uri": "https://localhost:8080/"
        },
        "id": "KBsTPROD3_sm",
        "outputId": "8b7d3079-528e-4235-8d09-6fccecabf131"
      },
      "execution_count": 21,
      "outputs": [
        {
          "output_type": "stream",
          "name": "stdout",
          "text": [
            "('Alice', 'Sales')\n",
            "('Bob', 'IT')\n",
            "('Carol', 'Sales')\n"
          ]
        }
      ]
    },
    {
      "cell_type": "markdown",
      "source": [
        "This returns each employee with their department name. In general, SQLite supports **INNER JOIN, LEFT JOIN, CROSS JOIN,** etc., just like other SQL databases. You can use an INNER JOIN, LEFT JOIN, or CROSS JOIN clause to query data from two tables. (A LEFT JOIN would include departments even if no employee exists, and so on.)\n",
        "\n",
        "\n",
        "Joins are powerful in many use cases; for example, you might have one table of experimental results and another of sample metadata, then join them by a key to analyze the combined data. Using `pd.read_sql` on join queries is also straightforward."
      ],
      "metadata": {
        "id": "bL2c2kYB4IL-"
      }
    },
    {
      "cell_type": "markdown",
      "source": [
        "## Advanced SQLite3 Features"
      ],
      "metadata": {
        "id": "cQj3L0ju5CuE"
      }
    },
    {
      "cell_type": "markdown",
      "source": [
        "### Parameterized Queries (Placeholders)"
      ],
      "metadata": {
        "id": "EeA5H4PC5F_M"
      }
    },
    {
      "cell_type": "markdown",
      "source": [
        "We briefly touched on placeholders with `?`. Always use them for inserting or updating with external values. For example:"
      ],
      "metadata": {
        "id": "qlSw-KDS5Hct"
      }
    },
    {
      "cell_type": "code",
      "source": [
        "name = \"Eve\"\n",
        "score = 77\n",
        "cur.execute(\"INSERT INTO students (name, grade) VALUES (?, ?)\", (name, score))"
      ],
      "metadata": {
        "colab": {
          "base_uri": "https://localhost:8080/"
        },
        "id": "J4GLBBC_4iRN",
        "outputId": "2ea1f850-43ff-4888-d49c-230ab4c10267"
      },
      "execution_count": 22,
      "outputs": [
        {
          "output_type": "execute_result",
          "data": {
            "text/plain": [
              "<sqlite3.Cursor at 0x78662fbede40>"
            ]
          },
          "metadata": {},
          "execution_count": 22
        }
      ]
    },
    {
      "cell_type": "markdown",
      "source": [
        "Do *not* do string formatting like `f\"...VALUES ('{name}', {score})\";` that can lead to SQL injection or quoting issues. The SQLite docs explicitly warn to use placeholders. Placeholders also handle proper escaping of quotes, types, etc."
      ],
      "metadata": {
        "id": "aoG1krbe5MSE"
      }
    },
    {
      "cell_type": "markdown",
      "source": [
        "### User-Defined Functions (UDFs)"
      ],
      "metadata": {
        "id": "sv1O6Nze5SqJ"
      }
    },
    {
      "cell_type": "markdown",
      "source": [
        "SQLite allows you to define your own SQL functions in Python. This can be useful for custom computations. For example, you can register a Python function as an SQL function with `create_function`:"
      ],
      "metadata": {
        "id": "tNXsyl8A5Uy4"
      }
    },
    {
      "cell_type": "code",
      "source": [
        "class MySum:\n",
        "    def __init__(self):\n",
        "        self.total = 0\n",
        "    def step(self, value):\n",
        "        self.total += value\n",
        "    def finalize(self):\n",
        "        return self.total\n",
        "\n",
        "conn.create_aggregate(\"mysum\", 1, MySum)\n",
        "cur.execute(\"CREATE TABLE test(n)\")\n",
        "cur.executemany(\"INSERT INTO test(n) VALUES(?)\", [(1,), (2,), (3,)])\n",
        "cur.execute(\"SELECT mysum(n) FROM test\")\n",
        "print(cur.fetchone()[0])  # 6"
      ],
      "metadata": {
        "colab": {
          "base_uri": "https://localhost:8080/"
        },
        "id": "CEpR1URN5KOV",
        "outputId": "cf2ed84a-a215-460e-de0d-df3114b8540b"
      },
      "execution_count": 23,
      "outputs": [
        {
          "output_type": "stream",
          "name": "stdout",
          "text": [
            "6\n"
          ]
        }
      ]
    },
    {
      "cell_type": "markdown",
      "source": [
        "This mirrors the Python docs’ aggregate example. User-defined aggregates let you implement custom reductions (beyond built-in SUM, AVG, etc.) within SQL queries."
      ],
      "metadata": {
        "id": "vaTxqVsz5lYm"
      }
    },
    {
      "cell_type": "code",
      "source": [
        "conn.close()"
      ],
      "metadata": {
        "id": "H3H3LFpN6CbK"
      },
      "execution_count": 24,
      "outputs": []
    },
    {
      "cell_type": "markdown",
      "source": [
        "Don't forget to close!"
      ],
      "metadata": {
        "id": "nNuqMP7A6B_T"
      }
    },
    {
      "cell_type": "markdown",
      "source": [
        "# Example: Full Iris Dataset Workflow"
      ],
      "metadata": {
        "id": "hVIEidGD58Fv"
      }
    },
    {
      "cell_type": "markdown",
      "source": [
        "To illustrate a full workflow, let’s load a real dataset into SQLite and run some queries. We’ll use the classic Iris dataset from sklearn (150 flower measurements, 3 species). First, load it into a pandas DataFrame and write it to SQLite:"
      ],
      "metadata": {
        "id": "VXo-NdVX7d7v"
      }
    },
    {
      "cell_type": "code",
      "source": [
        "from sklearn.datasets import load_iris\n",
        "import pandas as pd\n",
        "\n",
        "iris = load_iris(as_frame=True)\n",
        "df = iris.frame  # a DataFrame with sepal/petal lengths and target species (0,1,2)\n",
        "\n",
        "conn = sqlite3.connect('iris.db')\n",
        "\n",
        "df.to_sql('iris', conn, if_exists='replace', index=False)"
      ],
      "metadata": {
        "colab": {
          "base_uri": "https://localhost:8080/"
        },
        "id": "Xe0k00r55iYK",
        "outputId": "d2ece53f-915d-4ac7-af1b-fb6c4255f3b6"
      },
      "execution_count": 25,
      "outputs": [
        {
          "output_type": "execute_result",
          "data": {
            "text/plain": [
              "150"
            ]
          },
          "metadata": {},
          "execution_count": 25
        }
      ]
    },
    {
      "cell_type": "markdown",
      "source": [
        "Now the SQLite table iris has all 150 rows. We can query it directly or via pandas. For example, compute the average sepal length by species (target):"
      ],
      "metadata": {
        "id": "UpvHvYgo7n8p"
      }
    },
    {
      "cell_type": "code",
      "source": [
        "df.columns"
      ],
      "metadata": {
        "colab": {
          "base_uri": "https://localhost:8080/"
        },
        "id": "9SwVEcX57r71",
        "outputId": "4dd1a685-0e12-4380-c169-5e9dc83e4a2e"
      },
      "execution_count": 26,
      "outputs": [
        {
          "output_type": "execute_result",
          "data": {
            "text/plain": [
              "Index(['sepal length (cm)', 'sepal width (cm)', 'petal length (cm)',\n",
              "       'petal width (cm)', 'target'],\n",
              "      dtype='object')"
            ]
          },
          "metadata": {},
          "execution_count": 26
        }
      ]
    },
    {
      "cell_type": "code",
      "source": [
        "query = \"\"\"\n",
        "SELECT target AS species_id, AVG([sepal length (cm)]) AS avg_sepal\n",
        "FROM iris\n",
        "GROUP BY target\n",
        "\"\"\"\n",
        "result = pd.read_sql(query, conn)\n",
        "print(result)"
      ],
      "metadata": {
        "colab": {
          "base_uri": "https://localhost:8080/"
        },
        "id": "cfoArH2l7lWq",
        "outputId": "ca93149a-9661-48bb-afdd-013dbec5476c"
      },
      "execution_count": 27,
      "outputs": [
        {
          "output_type": "stream",
          "name": "stdout",
          "text": [
            "   species_id  avg_sepal\n",
            "0           0      5.006\n",
            "1           1      5.936\n",
            "2           2      6.588\n"
          ]
        }
      ]
    },
    {
      "cell_type": "markdown",
      "source": [
        "This returns a DataFrame like seen above.\n",
        "\n",
        "Here `species_id 0,1,2` correspond to `Iris-setosa`, `Iris-versicolor`, and `Iris-virginica`. We see virginica has the longest sepals on average. Using `read_sql` demonstrates combining SQL aggregation with pandas.\n",
        "\n",
        "We can also do a join. Suppose we have a lookup for species names:"
      ],
      "metadata": {
        "id": "zXSe1-Gf7xos"
      }
    },
    {
      "cell_type": "code",
      "source": [
        "species_df = pd.DataFrame({\n",
        "    \"target\": [0, 1, 2],\n",
        "    \"species\": [\"setosa\", \"versicolor\", \"virginica\"]\n",
        "})"
      ],
      "metadata": {
        "id": "B6miQ4c07vwv"
      },
      "execution_count": 28,
      "outputs": []
    },
    {
      "cell_type": "code",
      "source": [
        "species_df.to_sql('species', conn, index=False)\n",
        "\n",
        "query = \"\"\"\n",
        "SELECT s.species, AVG(i.[petal length (cm)]) AS avg_petal\n",
        "FROM iris AS i\n",
        "JOIN species AS s ON i.target = s.target\n",
        "GROUP BY s.species\n",
        "ORDER BY s.species\n",
        "\"\"\"\n",
        "\n",
        "df_join = pd.read_sql(query, conn)\n",
        "print(df_join)\n"
      ],
      "metadata": {
        "colab": {
          "base_uri": "https://localhost:8080/"
        },
        "id": "tKbGcLLA8B1c",
        "outputId": "7623f21a-6164-4796-c1fa-829ca0b944c8"
      },
      "execution_count": 29,
      "outputs": [
        {
          "output_type": "stream",
          "name": "stdout",
          "text": [
            "      species  avg_petal\n",
            "0      setosa      1.462\n",
            "1  versicolor      4.260\n",
            "2   virginica      5.552\n"
          ]
        }
      ]
    },
    {
      "cell_type": "code",
      "source": [
        "conn.close()"
      ],
      "metadata": {
        "id": "57TO9o-1X-Tx"
      },
      "execution_count": 30,
      "outputs": []
    },
    {
      "cell_type": "markdown",
      "source": [
        "This join combines the `iris` table with our `species` lookup table. The result shows, for each species name, the average petal length. This exemplifies a small analytic project: you loaded a dataset into SQLite, ran SQL to summarize and join data, and pulled it into pandas.\n",
        "\n",
        "Beyond Iris, you could scale up: for example, download a public dataset (e.g. COVID-19 stats from Our World in Data) directly into pandas or using `!wget`, and then `to_sql` it. Or load the MovieLens ratings dataset (millions of rows) into SQLite and perform SQL queries for analysis. The workflow is the same: **load data → run SQL → analyze**."
      ],
      "metadata": {
        "id": "7nI1cIIx8Jnm"
      }
    },
    {
      "cell_type": "markdown",
      "source": [
        "## Conclusion and Best Practices"
      ],
      "metadata": {
        "id": "P5QfMmug8YxJ"
      }
    },
    {
      "cell_type": "markdown",
      "source": [
        "In summary, using SQLite in Google Colab is straightforward because Python’s sqlite3 module is built in. Use it to create a local .db file, then run SQL commands with execute or via pandas. Remember to:"
      ],
      "metadata": {
        "id": "Wxd95c0s8dCA"
      }
    },
    {
      "cell_type": "markdown",
      "source": [
        "* **Commit transactions**: After any inserts/updates/deletes, call `conn.commit()` (or use a `with conn:` context).\n",
        "* **Use placeholders**: Always use `?` parameters rather than formatting SQL strings.\n",
        "* **Index wisely**: Add `CREATE INDEX` on columns you query frequently.\n",
        "* **Leverage pandas**: Use `df.to_sql(...)` and `pd.read_sql(...)` to move data between pandas and SQLite.\n",
        "* **Close connections**: When done, call `conn.close()` to free resources."
      ],
      "metadata": {
        "id": "SWxbpmji8gcR"
      }
    },
    {
      "cell_type": "markdown",
      "source": [
        "SQLite’s simplicity makes it an excellent tool for data science projects in Colab. You get the full power of SQL for filtering, joining, and aggregating data, combined with Python for processing and visualization. With these techniques, you can efficiently explore and analyze datasets entirely within a Colab notebook."
      ],
      "metadata": {
        "id": "ubhQ3thY84XR"
      }
    },
    {
      "cell_type": "markdown",
      "source": [
        "# References"
      ],
      "metadata": {
        "id": "kxnVJFAh8-Me"
      }
    },
    {
      "cell_type": "markdown",
      "source": [
        "* [About SQLite](https://www.sqlite.org/about.html)\n",
        "* [sqlite3 — DB-API 2.0 interface for SQLite databases — Python 3.13.3 documentation](https://docs.python.org/3/library/sqlite3.html)\n",
        "* [pandas.DataFrame.to_sql — pandas 2.2.3 documentation](https://pandas.pydata.org/docs/reference/api/pandas.DataFrame.to_sql.html)\n",
        "* [A Visual Explanation of SQLite Joins](https://www.sqlitetutorial.net/sqlite-join/)\n",
        "* [Best practices for SQLite performance  |  App quality  |  Android Developers](https://developer.android.com/topic/performance/sqlite-performance-best-practices)"
      ],
      "metadata": {
        "id": "SggxOtjK8_bT"
      }
    },
    {
      "cell_type": "markdown",
      "source": [
        "#Answers to Questions"
      ],
      "metadata": {
        "id": "8Oy3xwM4fyE5"
      }
    },
    {
      "cell_type": "markdown",
      "source": [
        "1. Describe, in your own words, how explicit transaction control (BEGIN…COMMIT, rollback(), or the with conn: context manager) affected both reliability and performance in your notebook workflow. Why is thoughtful use of transactions especially important when importing large, real-world datasets?\n",
        "> Large, real- world datasets are almost always never clean. When explicit transaction control is used, then any changes to clean, structure, and enrich our real-world data can be well-documented and repeatable. Explicit transaction control means that all data changes are treated as one operation. It makes it easier to undo changes (rollback) and makes committing changes easier by doing it in batches instead of per line of work. It also made reading the code easy since it was done in chunks instead of one big monster code that we had to put comments in between to ensure that we understood what was happening or what we think was happening.\n",
        "\n"
      ],
      "metadata": {
        "id": "vpz1s2lFgMzR"
      }
    },
    {
      "cell_type": "markdown",
      "source": [
        "2. Reflect on the difference between parameterized SQL statements (? placeholders) and string-formatted SQL. Beyond security, discuss how parameterization contributes to the reproducibility and long-term maintainability of data-science notebooks shared among collaborators.\n",
        ">I honestly thought at first that parameter use in our codes has always been a comsci best practice. I have never thought too much about it. When there was a comment made on it during class, I was surprised that there was a deeper meaning behind it beyond coding quirks and ease of use. Now that I have thought on it a bit, I think parameterized SQL statements makes our lives easier. (See insert statement with five ? instead of typed out headers that could be exposed to typos or errors like forgetting to type one or more headers.) While string- formatted SQL can be done and might sometimes seem easier than parameterized SQL statements, the use of parameters makes the code clean, easier to read and debug, and enhances collaboration. When I said I initially thought it was a coding quirk, I thought that the use of parameters to make it easier to read and debug was just an ingrained habit to anyone who took comsci classes. Also, ensuring that someone else can easily understand and debug your code was something I thought was another habit picked up during the undergrad era to make sure that your groupmates or someone you pass on your codes to can easily understand and edit the code to make it look like their own."
      ],
      "metadata": {
        "id": "CLy5X2OSgraq"
      }
    },
    {
      "cell_type": "markdown",
      "source": [
        "3. Explain how moving data back and forth between pandas DataFrames and SQLite tables shaped your analytical workflow. What advantages did each tool provide, and how did their combination change the way you thought about data cleaning, aggregation, or visualization?\n",
        ">While I cannot comment extensively on SQLite tables yet (I have only been introduced to it.), I can comment on the use of pandas DataFrames. In this notebook alone, the use of pandas makes it easier to understand since it is a language that we have used quite a bit. Also, if you put the data into a pandas Dataframe and work on it like that, we can use the full scope of features and convenience that pandas can provide. I think, if using one (pandas) makes things easier, using both (wisely) can make it much easier still since we can use combos that would make data handling great again."
      ],
      "metadata": {
        "id": "RLIdbVyPgzva"
      }
    },
    {
      "cell_type": "markdown",
      "source": [
        "4. Evaluate the practical benefits of registering Python functions (scalar or aggregate) as SQLite UDFs.\n",
        ">You can create things that are much more suited to your needs. UDFs can be reused so you don't have to type it again and again. A function can be made in python then applied to SQL tables much easier. I think. Maybe."
      ],
      "metadata": {
        "id": "2DTbhjxJg2mJ"
      }
    },
    {
      "cell_type": "code",
      "source": [],
      "metadata": {
        "id": "RQwyuvSFg8kJ"
      },
      "execution_count": null,
      "outputs": []
    }
  ]
}