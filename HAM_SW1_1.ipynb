{
 "cells": [
  {
   "cell_type": "markdown",
   "id": "7725cf28-d1b7-4bb5-b5d9-bd63789cb050",
   "metadata": {
    "panel-layout": {
     "height": 68.275,
     "visible": true,
     "width": 100
    }
   },
   "source": [
    "# Seatwork 1.1 Practice Set 1\n",
    "## Submitted by Hazel Anne Mozo"
   ]
  },
  {
   "cell_type": "code",
   "execution_count": 1,
   "id": "11562f9d-8048-4705-8fd0-57086d5f9c55",
   "metadata": {
    "panel-layout": {
     "height": 51.1375,
     "visible": true,
     "width": 100
    }
   },
   "outputs": [
    {
     "data": {
      "text/plain": [
       "65536"
      ]
     },
     "execution_count": 1,
     "metadata": {},
     "output_type": "execute_result"
    }
   ],
   "source": [
    "2**16 #2 raised to the power of 16"
   ]
  },
  {
   "cell_type": "code",
   "execution_count": 3,
   "id": "22e36aa8-9fd5-4ba6-a24c-f74013143ad6",
   "metadata": {
    "panel-layout": {
     "height": 27.137500762939453,
     "visible": true,
     "width": 100
    }
   },
   "outputs": [
    {
     "data": {
      "text/plain": [
       "(0.4, 0.4)"
      ]
     },
     "execution_count": 3,
     "metadata": {},
     "output_type": "execute_result"
    }
   ],
   "source": [
    "2/5, 2/5.0 #divides 2 by 5 with and int and a float"
   ]
  },
  {
   "cell_type": "code",
   "execution_count": 5,
   "id": "59798122-aac4-46a5-a7f4-946fee484378",
   "metadata": {
    "panel-layout": {
     "height": 51.13750076293945,
     "visible": true,
     "width": 100
    }
   },
   "outputs": [
    {
     "data": {
      "text/plain": [
       "'spameggs'"
      ]
     },
     "execution_count": 5,
     "metadata": {},
     "output_type": "execute_result"
    }
   ],
   "source": [
    "\"spam\" + \"eggs\" # concatenates two strings"
   ]
  },
  {
   "cell_type": "code",
   "execution_count": 9,
   "id": "255afa12-a883-44ee-bd82-3ac2c1981dae",
   "metadata": {
    "panel-layout": {
     "height": 51.13750076293945,
     "visible": true,
     "width": 100
    }
   },
   "outputs": [
    {
     "data": {
      "text/plain": [
       "'eggs ham'"
      ]
     },
     "execution_count": 9,
     "metadata": {},
     "output_type": "execute_result"
    }
   ],
   "source": [
    "S = \"ham\" # assigns ham to var S\n",
    "\"eggs \" + S #concatenates string to var S"
   ]
  },
  {
   "cell_type": "code",
   "execution_count": 11,
   "id": "b981f703-6754-4681-8ba4-1b60c6eae428",
   "metadata": {
    "panel-layout": {
     "height": 51.13750076293945,
     "visible": true,
     "width": 100
    }
   },
   "outputs": [
    {
     "data": {
      "text/plain": [
       "'hamhamhamhamham'"
      ]
     },
     "execution_count": 11,
     "metadata": {},
     "output_type": "execute_result"
    }
   ],
   "source": [
    "S*5 #repeats S 5 times"
   ]
  },
  {
   "cell_type": "code",
   "execution_count": 13,
   "id": "c9509277-b4fb-4342-8662-c41d512580b6",
   "metadata": {
    "panel-layout": {
     "height": 10,
     "visible": true,
     "width": 100
    }
   },
   "outputs": [
    {
     "data": {
      "text/plain": [
       "''"
      ]
     },
     "execution_count": 13,
     "metadata": {},
     "output_type": "execute_result"
    }
   ],
   "source": [
    "S[:0] #wrong indexing on S var to get a char"
   ]
  },
  {
   "cell_type": "code",
   "execution_count": 15,
   "id": "805831ae-f05f-418a-b191-2b0b9fa7431f",
   "metadata": {
    "panel-layout": {
     "height": 51.13750076293945,
     "visible": true,
     "width": 100
    }
   },
   "outputs": [
    {
     "data": {
      "text/plain": [
       "'green eggs and ham'"
      ]
     },
     "execution_count": 15,
     "metadata": {},
     "output_type": "execute_result"
    }
   ],
   "source": [
    "\"green %s and %s\" % (\"eggs\", S) # uses old method to concatenate string"
   ]
  },
  {
   "cell_type": "code",
   "execution_count": 17,
   "id": "5a856aba-d605-4319-aa6d-aa83c33e508d",
   "metadata": {
    "panel-layout": {
     "height": 51.13750076293945,
     "visible": true,
     "width": 100
    }
   },
   "outputs": [
    {
     "data": {
      "text/plain": [
       "'x'"
      ]
     },
     "execution_count": 17,
     "metadata": {},
     "output_type": "execute_result"
    }
   ],
   "source": [
    "('x',)[0] #starts a tuple and calls the first element"
   ]
  },
  {
   "cell_type": "code",
   "execution_count": 19,
   "id": "48eac0d6-6a7e-4d32-81a8-04a4642705c7",
   "metadata": {
    "panel-layout": {
     "height": 51.13750076293945,
     "visible": true,
     "width": 100
    }
   },
   "outputs": [
    {
     "data": {
      "text/plain": [
       "'y'"
      ]
     },
     "execution_count": 19,
     "metadata": {},
     "output_type": "execute_result"
    }
   ],
   "source": [
    "('x','y')[1] # updates the tuple and calls the 2nd element"
   ]
  },
  {
   "cell_type": "code",
   "execution_count": 87,
   "id": "80b1e684-0e96-4fae-8517-4f4e66ab7187",
   "metadata": {
    "panel-layout": {
     "height": 152.02500915527344,
     "visible": true,
     "width": 100
    }
   },
   "outputs": [
    {
     "data": {
      "text/plain": [
       "[1, 2, 3, 4, 5, 6]"
      ]
     },
     "execution_count": 87,
     "metadata": {},
     "output_type": "execute_result"
    }
   ],
   "source": [
    "L = [1,2,3]+[4,5,6] #appends a list to a list\n",
    "L"
   ]
  },
  {
   "cell_type": "code",
   "execution_count": 59,
   "id": "aeaa8fc4-a58d-421c-8338-16b972e86d8e",
   "metadata": {},
   "outputs": [
    {
     "data": {
      "text/plain": [
       "([1, 2, 3, 1, 2, 3, 1, 2, 3, 1, 2, 3],\n",
       " [1, 2, 3, 1, 2, 3, 1, 2, 3, 1, 2, 3],\n",
       " [],\n",
       " 2,\n",
       " [2, 3])"
      ]
     },
     "execution_count": 59,
     "metadata": {},
     "output_type": "execute_result"
    }
   ],
   "source": [
    "L, L[:], L[:0], L[-2], L[-2:]\n",
    "#calls the list\n",
    "#another way of calling the list\n",
    "#wrong way getting an element in the list\n",
    "#calling an element but start from the \"end\"\n",
    "#calling a subset of the list from the \"end\""
   ]
  },
  {
   "cell_type": "code",
   "execution_count": 61,
   "id": "f145bb5c-7d95-4863-adf8-d6ba0afe6e8a",
   "metadata": {
    "panel-layout": {
     "height": 83.4749984741211,
     "visible": true,
     "width": 100
    }
   },
   "outputs": [
    {
     "data": {
      "text/plain": [
       "[3, 4]"
      ]
     },
     "execution_count": 61,
     "metadata": {},
     "output_type": "execute_result"
    }
   ],
   "source": [
    "([1,2,3] + [4,5,6]) [2:4] #appends lists then calls out by index a subset. note that 2nd number is exclusive"
   ]
  },
  {
   "cell_type": "code",
   "execution_count": 89,
   "id": "13154a76-75a9-4bfe-866d-e254c7e45bee",
   "metadata": {
    "panel-layout": {
     "height": 83.4749984741211,
     "visible": true,
     "width": 100
    }
   },
   "outputs": [
    {
     "data": {
      "text/plain": [
       "[3, 4]"
      ]
     },
     "execution_count": 89,
     "metadata": {},
     "output_type": "execute_result"
    }
   ],
   "source": [
    "[L[2], L[3]]#creates a list by calling out by index a member of another list."
   ]
  },
  {
   "cell_type": "code",
   "execution_count": 91,
   "id": "101a4c13-b0b9-4ffb-97c5-e309fca82b6d",
   "metadata": {
    "panel-layout": {
     "height": 152.02500915527344,
     "visible": true,
     "width": 100
    }
   },
   "outputs": [
    {
     "data": {
      "text/plain": [
       "[6, 5, 4, 3, 2, 1]"
      ]
     },
     "execution_count": 91,
     "metadata": {},
     "output_type": "execute_result"
    }
   ],
   "source": [
    "L.reverse() #reverses the list by using the reverse function\n",
    "L "
   ]
  },
  {
   "cell_type": "code",
   "execution_count": 99,
   "id": "026f300b-fd2a-4325-be65-d8bc573a401f",
   "metadata": {
    "panel-layout": {
     "height": 152.02500915527344,
     "visible": true,
     "width": 100
    }
   },
   "outputs": [
    {
     "data": {
      "text/plain": [
       "[1, 2, 3, 4, 5, 6]"
      ]
     },
     "execution_count": 99,
     "metadata": {},
     "output_type": "execute_result"
    }
   ],
   "source": [
    "L.sort() #sorts the list by using the sort function\n",
    "L"
   ]
  },
  {
   "cell_type": "code",
   "execution_count": 79,
   "id": "91a6df5f-1d97-4e68-96d6-6b1483914fe4",
   "metadata": {
    "panel-layout": {
     "height": 27.137500762939453,
     "visible": true,
     "width": 100
    }
   },
   "outputs": [
    {
     "data": {
      "text/plain": [
       "0"
      ]
     },
     "execution_count": 79,
     "metadata": {},
     "output_type": "execute_result"
    }
   ],
   "source": [
    "L.index(1) #will tell you what's the index number of the number in the parenthesis"
   ]
  },
  {
   "cell_type": "code",
   "execution_count": 81,
   "id": "6cc1fe45-fd8c-4e02-be70-cb6bbb0a8b82",
   "metadata": {
    "panel-layout": {
     "height": 27.137500762939453,
     "visible": true,
     "width": 100
    }
   },
   "outputs": [
    {
     "data": {
      "text/plain": [
       "2"
      ]
     },
     "execution_count": 81,
     "metadata": {},
     "output_type": "execute_result"
    }
   ],
   "source": [
    "{'a':1, 'b':2} ['b'] #creates a dictionary, calls an element by key"
   ]
  },
  {
   "cell_type": "code",
   "execution_count": 101,
   "id": "d1cc2ac0-5d4e-48b9-a80f-e97b97aeccfa",
   "metadata": {},
   "outputs": [],
   "source": [
    "D = {'x':1, 'y':2, 'z':3} # creates a dictionary"
   ]
  },
  {
   "cell_type": "code",
   "execution_count": 113,
   "id": "2fc092ed-5e28-4842-8791-60e80ab10faa",
   "metadata": {
    "panel-layout": {
     "height": 27.137500762939453,
     "visible": true,
     "width": 100
    }
   },
   "outputs": [
    {
     "data": {
      "text/plain": [
       "1"
      ]
     },
     "execution_count": 113,
     "metadata": {},
     "output_type": "execute_result"
    }
   ],
   "source": [
    "D['w'] = 0 #since no w in dictionary and a value was given, this adds w to D\n",
    "D['x'] + D['w'] #calls out the values and performs calculation with them"
   ]
  },
  {
   "cell_type": "code",
   "execution_count": 123,
   "id": "378f4052-e121-4ede-ab77-182264a62be7",
   "metadata": {},
   "outputs": [],
   "source": [
    "D[(1,2,3)] = 4 #adds to dict with tuple key"
   ]
  },
  {
   "cell_type": "code",
   "execution_count": 125,
   "id": "fad7037b-4d12-432b-9740-2235d8dfaf07",
   "metadata": {
    "panel-layout": {
     "height": 27.137500762939453,
     "visible": true,
     "width": 100
    }
   },
   "outputs": [
    {
     "data": {
      "text/plain": [
       "dict_keys(['x', 'y', 'z', 'w', (1, 2, 3)])"
      ]
     },
     "execution_count": 125,
     "metadata": {},
     "output_type": "execute_result"
    }
   ],
   "source": [
    "D.keys() #tells you what the keys are without the values"
   ]
  },
  {
   "cell_type": "code",
   "execution_count": 127,
   "id": "47c0385d-9cab-4c55-8e8d-0cc3950ec505",
   "metadata": {
    "panel-layout": {
     "height": 27.137500762939453,
     "visible": true,
     "width": 100
    }
   },
   "outputs": [
    {
     "data": {
      "text/plain": [
       "dict_values([1, 2, 3, 0, 4])"
      ]
     },
     "execution_count": 127,
     "metadata": {},
     "output_type": "execute_result"
    }
   ],
   "source": [
    "D.values() #tells you what the values are without the keys"
   ]
  },
  {
   "cell_type": "code",
   "execution_count": 133,
   "id": "54d0af4a-4040-452d-af17-cc3725050c28",
   "metadata": {
    "panel-layout": {
     "height": 27.137500762939453,
     "visible": true,
     "width": 100
    }
   },
   "outputs": [
    {
     "data": {
      "text/plain": [
       "True"
      ]
     },
     "execution_count": 133,
     "metadata": {},
     "output_type": "execute_result"
    }
   ],
   "source": [
    "(1,2,3) in D #Instead of has_key (because this function is deprecated) we use the \"in\" operator"
   ]
  },
  {
   "cell_type": "code",
   "execution_count": 148,
   "id": "9b97e712-02c4-4813-9394-2ef5cec2b700",
   "metadata": {},
   "outputs": [
    {
     "data": {
      "text/plain": [
       "([[]], ['', [], {}, None])"
      ]
     },
     "execution_count": 148,
     "metadata": {},
     "output_type": "execute_result"
    }
   ],
   "source": [
    " [[]], [\"\", [], {}, None]"
   ]
  },
  {
   "cell_type": "markdown",
   "id": "3fc5f6bf-4ade-43ad-b7c8-8adb2dc4a4eb",
   "metadata": {
    "panel-layout": {
     "height": 51.13750076293945,
     "visible": true,
     "width": 100
    }
   },
   "source": [
    "# NUMBER 2"
   ]
  },
  {
   "cell_type": "code",
   "execution_count": 196,
   "id": "fb8e0a3b-e948-467e-8071-c0e0e6536fa7",
   "metadata": {
    "panel-layout": {
     "height": 134.8874969482422,
     "visible": true,
     "width": 100
    }
   },
   "outputs": [
    {
     "data": {
      "text/plain": [
       "['violin', 'viola', 'bass', 'contrabass']"
      ]
     },
     "execution_count": 196,
     "metadata": {},
     "output_type": "execute_result"
    }
   ],
   "source": [
    "L = ['violin', 'viola', 'bass', 'contrabass'] #Define a list named L that contains four strings or numbers\n",
    "L"
   ]
  },
  {
   "cell_type": "code",
   "execution_count": 152,
   "id": "af7e0a97-0768-4141-adef-14a2e3617a37",
   "metadata": {},
   "outputs": [
    {
     "ename": "IndexError",
     "evalue": "list index out of range",
     "output_type": "error",
     "traceback": [
      "\u001b[1;31m---------------------------------------------------------------------------\u001b[0m",
      "\u001b[1;31mIndexError\u001b[0m                                Traceback (most recent call last)",
      "Cell \u001b[1;32mIn[152], line 1\u001b[0m\n\u001b[1;32m----> 1\u001b[0m L[\u001b[38;5;241m17\u001b[39m]\n",
      "\u001b[1;31mIndexError\u001b[0m: list index out of range"
     ]
    }
   ],
   "source": [
    "L[17] #Attempt to index out of bounds. returns an error"
   ]
  },
  {
   "cell_type": "code",
   "execution_count": 156,
   "id": "dceaf058-e4e8-4af6-8185-996bdd131389",
   "metadata": {
    "panel-layout": {
     "height": 117.75,
     "visible": true,
     "width": 100
    }
   },
   "outputs": [
    {
     "data": {
      "text/plain": [
       "['violin', 'viola', 'bass', 'contrabass']"
      ]
     },
     "execution_count": 156,
     "metadata": {},
     "output_type": "execute_result"
    }
   ],
   "source": [
    "L[-17:34] #the slice was out of bounds. it showed the whole list because the list is within the specified number"
   ]
  },
  {
   "cell_type": "code",
   "execution_count": 200,
   "id": "895d351d-063b-4eb9-b80f-86b5078327b5",
   "metadata": {
    "panel-layout": {
     "height": 66.3375015258789,
     "visible": true,
     "width": 100
    }
   },
   "outputs": [
    {
     "data": {
      "text/plain": [
       "[]"
      ]
     },
     "execution_count": 200,
     "metadata": {},
     "output_type": "execute_result"
    }
   ],
   "source": [
    "L[3:1] #from 3 to 1 but we didn't specify direction and the default is 1 - nothing comes after - results in blank"
   ]
  },
  {
   "cell_type": "code",
   "execution_count": 192,
   "id": "4fd498aa-40e2-4b9e-a795-34a10aaf8626",
   "metadata": {
    "panel-layout": {
     "height": 134.8874969482422,
     "visible": true,
     "width": 100
    }
   },
   "outputs": [
    {
     "data": {
      "text/plain": [
       "['violin', 'viola', 'bass', '?', 'contrabass']"
      ]
     },
     "execution_count": 192,
     "metadata": {},
     "output_type": "execute_result"
    }
   ],
   "source": [
    "L[3:1]=['?'] # Attempt to perform L[3:1] = ['?'] added ? as part of the list on the 3rd index then since\n",
    "L"
   ]
  },
  {
   "cell_type": "markdown",
   "id": "27675baf-5a3b-4af8-88e3-2b92f7d491b7",
   "metadata": {},
   "source": [
    "# NUMBER 3"
   ]
  },
  {
   "cell_type": "code",
   "execution_count": 299,
   "id": "0dd685e7-eede-43ed-b643-3fb84f64f33b",
   "metadata": {},
   "outputs": [
    {
     "data": {
      "text/plain": [
       "['this', 'is', 'a', 'new', 'list']"
      ]
     },
     "execution_count": 299,
     "metadata": {},
     "output_type": "execute_result"
    }
   ],
   "source": [
    "L = ['this', 'is', 'a', 'new', 'list'] #created a new list. straightforward just created a list.\n",
    "L"
   ]
  },
  {
   "cell_type": "code",
   "execution_count": 301,
   "id": "ccd6e52a-201b-4e33-9096-f78d89931d5f",
   "metadata": {},
   "outputs": [
    {
     "data": {
      "text/plain": [
       "['this', 'is', 'a', 'new', 'list', ['a', 'list']]"
      ]
     },
     "execution_count": 301,
     "metadata": {},
     "output_type": "execute_result"
    }
   ],
   "source": [
    "L.append(['a','list']) #assign a list as one of its elements. used append to add and element to the end of the list.\n",
    "L"
   ]
  },
  {
   "cell_type": "code",
   "execution_count": 303,
   "id": "e9afe088-558f-4b01-ba55-d734eae9e630",
   "metadata": {},
   "outputs": [
    {
     "data": {
      "text/plain": [
       "['this', 'is', 'a', 'new', ['a', 'list']]"
      ]
     },
     "execution_count": 303,
     "metadata": {},
     "output_type": "execute_result"
    }
   ],
   "source": [
    "L[4:5] = [] #Assign an empty list to a range. assigning an empty list to a range deletes that range.\n",
    "L"
   ]
  },
  {
   "cell_type": "code",
   "execution_count": 305,
   "id": "a11d77ba-2465-4bf9-99a3-e8991017c452",
   "metadata": {},
   "outputs": [
    {
     "data": {
      "text/plain": [
       "['this', 'is', 'a', 'new', ['list']]"
      ]
     },
     "execution_count": 305,
     "metadata": {},
     "output_type": "execute_result"
    }
   ],
   "source": [
    "del L[4][0] #Delete an item in your list using the del statement\n",
    "L"
   ]
  },
  {
   "cell_type": "code",
   "execution_count": 307,
   "id": "5b23475f-f77a-48a6-b59d-afb597bae7b3",
   "metadata": {},
   "outputs": [
    {
     "data": {
      "text/plain": [
       "['this', 'is', 'a', ['list']]"
      ]
     },
     "execution_count": 307,
     "metadata": {},
     "output_type": "execute_result"
    }
   ],
   "source": [
    "del L[3:4] #Delete an entire range from your list.\n",
    "L"
   ]
  },
  {
   "cell_type": "code",
   "execution_count": 311,
   "id": "37430872-f0a4-4af2-a23d-d41d140c1b74",
   "metadata": {},
   "outputs": [
    {
     "ename": "TypeError",
     "evalue": "must assign iterable to extended slice",
     "output_type": "error",
     "traceback": [
      "\u001b[1;31m---------------------------------------------------------------------------\u001b[0m",
      "\u001b[1;31mTypeError\u001b[0m                                 Traceback (most recent call last)",
      "Cell \u001b[1;32mIn[311], line 1\u001b[0m\n\u001b[1;32m----> 1\u001b[0m L[\u001b[38;5;241m2\u001b[39m:\u001b[38;5;241m4\u001b[39m]\u001b[38;5;241m=\u001b[39m\u001b[38;5;241m3.0\u001b[39m \u001b[38;5;66;03m#Assign a non-sequence value to a slice. this causes an error because\u001b[39;00m\n\u001b[0;32m      2\u001b[0m L\n",
      "\u001b[1;31mTypeError\u001b[0m: must assign iterable to extended slice"
     ]
    }
   ],
   "source": [
    "L[2:4]=3.0 #Assign a non-sequence value to a slice. this causes an error because you should assign a sequence to a slice.\n",
    "L"
   ]
  },
  {
   "cell_type": "markdown",
   "id": "7112da11-dc47-4b4c-9118-a2adb7375f19",
   "metadata": {},
   "source": [
    "# Number 4"
   ]
  },
  {
   "cell_type": "code",
   "execution_count": 316,
   "id": "93e47452-2545-4222-af53-f9f4d592ad58",
   "metadata": {},
   "outputs": [
    {
     "data": {
      "text/plain": [
       "{'a': 'with', 'b': 'three', 'c': 'entries'}"
      ]
     },
     "execution_count": 316,
     "metadata": {},
     "output_type": "execute_result"
    }
   ],
   "source": [
    "D = {'a':'with','b':'three','c':'entries'}\n",
    "D"
   ]
  },
  {
   "cell_type": "code",
   "execution_count": 318,
   "id": "ea90de63-99e4-427f-9423-1937cad72cbb",
   "metadata": {},
   "outputs": [
    {
     "ename": "KeyError",
     "evalue": "'d'",
     "output_type": "error",
     "traceback": [
      "\u001b[1;31m---------------------------------------------------------------------------\u001b[0m",
      "\u001b[1;31mKeyError\u001b[0m                                  Traceback (most recent call last)",
      "Cell \u001b[1;32mIn[318], line 1\u001b[0m\n\u001b[1;32m----> 1\u001b[0m D[\u001b[38;5;124m'\u001b[39m\u001b[38;5;124md\u001b[39m\u001b[38;5;124m'\u001b[39m]\n",
      "\u001b[1;31mKeyError\u001b[0m: 'd'"
     ]
    }
   ],
   "source": [
    "D['d'] #this is an error because you called a key that is not in the dictionary"
   ]
  },
  {
   "cell_type": "code",
   "execution_count": 320,
   "id": "bb50f58f-959b-4d7d-ac6f-1743aa4e0203",
   "metadata": {},
   "outputs": [
    {
     "data": {
      "text/plain": [
       "{'a': 'with', 'b': 'three', 'c': 'entries', 'd': 'assign'}"
      ]
     },
     "execution_count": 320,
     "metadata": {},
     "output_type": "execute_result"
    }
   ],
   "source": [
    "D['d'] = 'assign' #when you a assign to a nonexistent key, it adds it to the dictionary\n",
    "D"
   ]
  },
  {
   "cell_type": "markdown",
   "id": "756dcb42-1319-44f1-a217-f3f7cc2e6a4e",
   "metadata": {},
   "source": [
    "# Number 5"
   ]
  },
  {
   "cell_type": "code",
   "execution_count": 381,
   "id": "200c3ef2-40d3-4e00-9f87-b05bc60f823d",
   "metadata": {},
   "outputs": [],
   "source": [
    "L = [1,2,3]\n",
    "L2 = [4,5,6]\n",
    "D = {'a':1,'b':2,'c':3}\n",
    "T = (1,2,3)\n",
    "S1 = 'string'\n",
    "S2 = 'cheese'"
   ]
  },
  {
   "cell_type": "code",
   "execution_count": 337,
   "id": "0dcd3244-8106-4aa4-85a8-f33f8d90d984",
   "metadata": {},
   "outputs": [
    {
     "ename": "TypeError",
     "evalue": "unsupported operand type(s) for +: 'dict' and 'list'",
     "output_type": "error",
     "traceback": [
      "\u001b[1;31m---------------------------------------------------------------------------\u001b[0m",
      "\u001b[1;31mTypeError\u001b[0m                                 Traceback (most recent call last)",
      "Cell \u001b[1;32mIn[337], line 1\u001b[0m\n\u001b[1;32m----> 1\u001b[0m D \u001b[38;5;241m+\u001b[39m L\n",
      "\u001b[1;31mTypeError\u001b[0m: unsupported operand type(s) for +: 'dict' and 'list'"
     ]
    }
   ],
   "source": [
    "D + L #can't use + on mixed types"
   ]
  },
  {
   "cell_type": "code",
   "execution_count": 359,
   "id": "7a341167-35e6-42bc-bac4-c6887963eafd",
   "metadata": {},
   "outputs": [
    {
     "data": {
      "text/plain": [
       "[1, 2, 3, 4, 5, 6]"
      ]
     },
     "execution_count": 359,
     "metadata": {},
     "output_type": "execute_result"
    }
   ],
   "source": [
    "L + L2 # + works if same type"
   ]
  },
  {
   "cell_type": "code",
   "execution_count": 347,
   "id": "52b4c6ef-aa44-4aa5-8ede-c1274e6b3eb9",
   "metadata": {},
   "outputs": [
    {
     "ename": "TypeError",
     "evalue": "can only concatenate list (not \"dict\") to list",
     "output_type": "error",
     "traceback": [
      "\u001b[1;31m---------------------------------------------------------------------------\u001b[0m",
      "\u001b[1;31mTypeError\u001b[0m                                 Traceback (most recent call last)",
      "Cell \u001b[1;32mIn[347], line 1\u001b[0m\n\u001b[1;32m----> 1\u001b[0m L \u001b[38;5;241m+\u001b[39m D\n",
      "\u001b[1;31mTypeError\u001b[0m: can only concatenate list (not \"dict\") to list"
     ]
    }
   ],
   "source": [
    "L + D # Does + work if one of the operands is a dictionary - no"
   ]
  },
  {
   "cell_type": "code",
   "execution_count": 375,
   "id": "7af611fa-48c6-48fc-a3c7-49c84f99ff14",
   "metadata": {},
   "outputs": [
    {
     "data": {
      "text/plain": [
       "[1, 2, 3, [7, 8, 9]]"
      ]
     },
     "execution_count": 375,
     "metadata": {},
     "output_type": "execute_result"
    }
   ],
   "source": [
    "L.append([7,8,9]) #you can append a list to a list\n",
    "L"
   ]
  },
  {
   "cell_type": "code",
   "execution_count": 377,
   "id": "c942708d-c81b-45b1-85cd-da82081da023",
   "metadata": {},
   "outputs": [
    {
     "data": {
      "text/plain": [
       "[1, 2, 3, [7, 8, 9], 'string']"
      ]
     },
     "execution_count": 377,
     "metadata": {},
     "output_type": "execute_result"
    }
   ],
   "source": [
    "L.append('string')\n",
    "L"
   ]
  },
  {
   "cell_type": "code",
   "execution_count": 387,
   "id": "0e86dfc6-1d8d-4d11-ad5d-4d8bde91b28c",
   "metadata": {},
   "outputs": [
    {
     "data": {
      "text/plain": [
       "'stringcheese'"
      ]
     },
     "execution_count": 387,
     "metadata": {},
     "output_type": "execute_result"
    }
   ],
   "source": [
    "S1+S2 #you can use + on two strings"
   ]
  },
  {
   "cell_type": "code",
   "execution_count": 389,
   "id": "eccd262c-351c-4a90-95e2-39980cfb036b",
   "metadata": {},
   "outputs": [
    {
     "data": {
      "text/plain": [
       "[1, 2, 3, 4, 5, 6]"
      ]
     },
     "execution_count": 389,
     "metadata": {},
     "output_type": "execute_result"
    }
   ],
   "source": [
    "L + L2 # + extends the first list (left operand) by the second list (right operand)"
   ]
  },
  {
   "cell_type": "markdown",
   "id": "c73824e6-c0e3-42dc-bd3f-eb7c6103c185",
   "metadata": {},
   "source": [
    "# Number 6"
   ]
  },
  {
   "cell_type": "code",
   "execution_count": 394,
   "id": "cf648956-9313-4cf3-b6a2-bc14e7726299",
   "metadata": {},
   "outputs": [
    {
     "data": {
      "text/plain": [
       "'f'"
      ]
     },
     "execution_count": 394,
     "metadata": {},
     "output_type": "execute_result"
    }
   ],
   "source": [
    "S = 'four'\n",
    "S[0][0][0][0] #shows first char"
   ]
  },
  {
   "cell_type": "markdown",
   "id": "48f0279a-cebf-4e5a-bf79-591e96566bc4",
   "metadata": {},
   "source": [
    "# Number 7"
   ]
  },
  {
   "cell_type": "code",
   "execution_count": 402,
   "id": "1adfe8a2-1652-460b-b8e6-0c4565cbfb8a",
   "metadata": {},
   "outputs": [],
   "source": [
    "S = 'spam'"
   ]
  },
  {
   "cell_type": "code",
   "execution_count": 398,
   "id": "be1bc2a5-ad35-41ae-bd37-9e0eb6f3d60f",
   "metadata": {},
   "outputs": [
    {
     "data": {
      "text/plain": [
       "'spam'"
      ]
     },
     "execution_count": 398,
     "metadata": {},
     "output_type": "execute_result"
    }
   ],
   "source": [
    "S"
   ]
  },
  {
   "cell_type": "code",
   "execution_count": 410,
   "id": "a9d2432b-de0c-46c9-a238-32bd494e29db",
   "metadata": {},
   "outputs": [
    {
     "data": {
      "text/plain": [
       "'slam'"
      ]
     },
     "execution_count": 410,
     "metadata": {},
     "output_type": "execute_result"
    }
   ],
   "source": [
    "S1 = S[0]+'l'+S[2:] #you can slice and concatenate\n",
    "S1"
   ]
  },
  {
   "cell_type": "code",
   "execution_count": 414,
   "id": "6e11b39a-63f9-49f3-8db1-579e549f61b1",
   "metadata": {},
   "outputs": [
    {
     "ename": "TypeError",
     "evalue": "'str' object does not support item assignment",
     "output_type": "error",
     "traceback": [
      "\u001b[1;31m---------------------------------------------------------------------------\u001b[0m",
      "\u001b[1;31mTypeError\u001b[0m                                 Traceback (most recent call last)",
      "Cell \u001b[1;32mIn[414], line 1\u001b[0m\n\u001b[1;32m----> 1\u001b[0m S[\u001b[38;5;241m1\u001b[39m]\u001b[38;5;241m=\u001b[39m\u001b[38;5;124m'\u001b[39m\u001b[38;5;124ml\u001b[39m\u001b[38;5;124m'\u001b[39m\n",
      "\u001b[1;31mTypeError\u001b[0m: 'str' object does not support item assignment"
     ]
    }
   ],
   "source": [
    "S[1]='l' #index assignment does not work"
   ]
  },
  {
   "cell_type": "code",
   "execution_count": null,
   "id": "e764d1df-5859-42eb-958b-3c40b084a13a",
   "metadata": {},
   "outputs": [],
   "source": []
  }
 ],
 "metadata": {
  "kernelspec": {
   "display_name": "Python [conda env:base] *",
   "language": "python",
   "name": "conda-base-py"
  },
  "language_info": {
   "codemirror_mode": {
    "name": "ipython",
    "version": 3
   },
   "file_extension": ".py",
   "mimetype": "text/x-python",
   "name": "python",
   "nbconvert_exporter": "python",
   "pygments_lexer": "ipython3",
   "version": "3.12.7"
  },
  "panel-cell-order": [
   "11562f9d-8048-4705-8fd0-57086d5f9c55",
   "7725cf28-d1b7-4bb5-b5d9-bd63789cb050",
   "22e36aa8-9fd5-4ba6-a24c-f74013143ad6",
   "59798122-aac4-46a5-a7f4-946fee484378",
   "255afa12-a883-44ee-bd82-3ac2c1981dae",
   "b981f703-6754-4681-8ba4-1b60c6eae428",
   "c9509277-b4fb-4342-8662-c41d512580b6",
   "805831ae-f05f-418a-b191-2b0b9fa7431f",
   "5a856aba-d605-4319-aa6d-aa83c33e508d",
   "48eac0d6-6a7e-4d32-81a8-04a4642705c7",
   "80b1e684-0e96-4fae-8517-4f4e66ab7187",
   "f145bb5c-7d95-4863-adf8-d6ba0afe6e8a",
   "13154a76-75a9-4bfe-866d-e254c7e45bee",
   "101a4c13-b0b9-4ffb-97c5-e309fca82b6d",
   "026f300b-fd2a-4325-be65-d8bc573a401f",
   "91a6df5f-1d97-4e68-96d6-6b1483914fe4",
   "6cc1fe45-fd8c-4e02-be70-cb6bbb0a8b82",
   "2fc092ed-5e28-4842-8791-60e80ab10faa",
   "fad7037b-4d12-432b-9740-2235d8dfaf07",
   "47c0385d-9cab-4c55-8e8d-0cc3950ec505",
   "54d0af4a-4040-452d-af17-cc3725050c28",
   "3fc5f6bf-4ade-43ad-b7c8-8adb2dc4a4eb",
   "fb8e0a3b-e948-467e-8071-c0e0e6536fa7",
   "dceaf058-e4e8-4af6-8185-996bdd131389",
   "895d351d-063b-4eb9-b80f-86b5078327b5",
   "4fd498aa-40e2-4b9e-a795-34a10aaf8626"
  ]
 },
 "nbformat": 4,
 "nbformat_minor": 5
}
