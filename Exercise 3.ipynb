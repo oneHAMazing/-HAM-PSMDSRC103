{
 "cells": [
  {
   "cell_type": "markdown",
   "id": "fcc7d5c4-f09d-4ee3-b7ff-325abfd53b61",
   "metadata": {},
   "source": [
    "# Exercise 3: Personal Finance Manager\n",
    "### Submitted by Lyka Punzalan and Hazel Anne Mozo"
   ]
  },
  {
   "cell_type": "markdown",
   "id": "2fd0c7c3-e1b4-4d27-99ca-42147f3f29b4",
   "metadata": {},
   "source": [
    "You are building a simple personal finance manager to help users keep track of their expenses and manage their budgets.\n",
    "\n",
    "Task 1: Write a function add_income(income, total) that adds a new income amount to the total balance.\n",
    "\n",
    "Task 2: Write a function subtract_expense(expense, total) that subtracts an expense amount from the total balance.\n",
    "\n",
    "Task 3: Write a function calculate_balance(income, expenses) that calculates the remaining balance after accounting for all expenses.\n",
    "\n",
    "Task 4: Create a main program that allows users to input their income and expenses, and then use the functions to display their remaining balance. The program should also warn the user if their expenses exceed their income."
   ]
  },
  {
   "cell_type": "code",
   "execution_count": 11,
   "id": "157d2a43-1027-4fde-bfc3-71c42014c220",
   "metadata": {},
   "outputs": [
    {
     "name": "stdout",
     "output_type": "stream",
     "text": [
      "\n",
      " Welcome to your personal finance manager!\n",
      " (1) Add to my wallet \n",
      " (2) Track expenses \n",
      " (3) Check Balance \n",
      " (4) Exit\n"
     ]
    },
    {
     "name": "stdin",
     "output_type": "stream",
     "text": [
      "How can I help you today?  1\n",
      "Please input your income: 1000\n"
     ]
    },
    {
     "name": "stdout",
     "output_type": "stream",
     "text": [
      "Your total balance is: PHP 1000.0\n",
      "\n",
      " Welcome to your personal finance manager!\n",
      " (1) Add to my wallet \n",
      " (2) Track expenses \n",
      " (3) Check Balance \n",
      " (4) Exit\n"
     ]
    },
    {
     "name": "stdin",
     "output_type": "stream",
     "text": [
      "How can I help you today?  1\n",
      "Please input your income: 1000\n"
     ]
    },
    {
     "name": "stdout",
     "output_type": "stream",
     "text": [
      "Your total balance is: PHP 2000.0\n",
      "\n",
      " Welcome to your personal finance manager!\n",
      " (1) Add to my wallet \n",
      " (2) Track expenses \n",
      " (3) Check Balance \n",
      " (4) Exit\n"
     ]
    },
    {
     "name": "stdin",
     "output_type": "stream",
     "text": [
      "How can I help you today?  2\n",
      "Please input your expenses: 500\n"
     ]
    },
    {
     "name": "stdout",
     "output_type": "stream",
     "text": [
      "You've spent PHP 500.0\n",
      "Your remaining balance is: 1500.0\n",
      "You still have money. Good job!\n",
      "\n",
      " Welcome to your personal finance manager!\n",
      " (1) Add to my wallet \n",
      " (2) Track expenses \n",
      " (3) Check Balance \n",
      " (4) Exit\n"
     ]
    },
    {
     "name": "stdin",
     "output_type": "stream",
     "text": [
      "How can I help you today?  1\n",
      "Please input your income: 2000\n"
     ]
    },
    {
     "name": "stdout",
     "output_type": "stream",
     "text": [
      "Your total balance is: PHP 3500.0\n",
      "\n",
      " Welcome to your personal finance manager!\n",
      " (1) Add to my wallet \n",
      " (2) Track expenses \n",
      " (3) Check Balance \n",
      " (4) Exit\n"
     ]
    },
    {
     "name": "stdin",
     "output_type": "stream",
     "text": [
      "How can I help you today?  3\n"
     ]
    },
    {
     "name": "stdout",
     "output_type": "stream",
     "text": [
      "You currently have Php 3500.0\n",
      "\n",
      " Welcome to your personal finance manager!\n",
      " (1) Add to my wallet \n",
      " (2) Track expenses \n",
      " (3) Check Balance \n",
      " (4) Exit\n"
     ]
    },
    {
     "name": "stdin",
     "output_type": "stream",
     "text": [
      "How can I help you today?  2\n",
      "Please input your expenses: 500\n"
     ]
    },
    {
     "name": "stdout",
     "output_type": "stream",
     "text": [
      "You've spent PHP 1000.0\n",
      "Your remaining balance is: 3000.0\n",
      "You still have money. Good job!\n",
      "\n",
      " Welcome to your personal finance manager!\n",
      " (1) Add to my wallet \n",
      " (2) Track expenses \n",
      " (3) Check Balance \n",
      " (4) Exit\n"
     ]
    },
    {
     "name": "stdin",
     "output_type": "stream",
     "text": [
      "How can I help you today?  1\n",
      "Please input your income: 1000\n"
     ]
    },
    {
     "name": "stdout",
     "output_type": "stream",
     "text": [
      "Your total balance is: PHP 4000.0\n",
      "\n",
      " Welcome to your personal finance manager!\n",
      " (1) Add to my wallet \n",
      " (2) Track expenses \n",
      " (3) Check Balance \n",
      " (4) Exit\n"
     ]
    },
    {
     "name": "stdin",
     "output_type": "stream",
     "text": [
      "How can I help you today?  3\n"
     ]
    },
    {
     "name": "stdout",
     "output_type": "stream",
     "text": [
      "You currently have Php 4000.0\n",
      "\n",
      " Welcome to your personal finance manager!\n",
      " (1) Add to my wallet \n",
      " (2) Track expenses \n",
      " (3) Check Balance \n",
      " (4) Exit\n"
     ]
    },
    {
     "name": "stdin",
     "output_type": "stream",
     "text": [
      "How can I help you today?  4\n"
     ]
    },
    {
     "name": "stdout",
     "output_type": "stream",
     "text": [
      "Goodbye!\n"
     ]
    }
   ],
   "source": [
    "def add_income(income, total):\n",
    "    return total + income\n",
    "\n",
    "def subtract_expense(expense, total):\n",
    "    return total - expense\n",
    "\n",
    "def calculate_balance(income, expense):\n",
    "    return income - expense\n",
    "\n",
    "def main_prog():\n",
    "    total_income = 0\n",
    "    total_expense = 0\n",
    "    ask = \"\"\" (1) Add to my wallet \\n (2) Track expenses \\n (3) Check Balance \\n (4) Exit\"\"\"\n",
    "    \n",
    "    while True:\n",
    "        try:\n",
    "            print(\"\\n Welcome to your personal finance manager!\")\n",
    "            print(ask)\n",
    "            user = int(input(\"How can I help you today? \"))\n",
    "   \n",
    "            if user == 1:\n",
    "                i = float(input(\"Please input your income:\"))\n",
    "                total_income = add_income(i, total_income)\n",
    "                print(f\"Your total balance is: PHP {calculate_balance(total_income, total_expense)}\")\n",
    "                continue\n",
    "        \n",
    "            elif user == 2:\n",
    "                e = float(input(\"Please input your expenses:\"))\n",
    "                \n",
    "                if e>calculate_balance(total_income, total_expense):\n",
    "                    total_expense += e\n",
    "                    print(\"Oh no! You have spent more than you have\")                    \n",
    "                else:\n",
    "                    total_expense += e\n",
    "                    print(f\"You've spent PHP {total_expense}\")\n",
    "                    print(f\"Your remaining balance is: {calculate_balance(total_income, total_expense)}\")\n",
    "                    print(\"You still have money. Good job!\")\n",
    "                continue\n",
    "\n",
    "            elif user == 3:\n",
    "                print(f\"You currently have Php {calculate_balance(total_income, total_expense)}\")\n",
    "\n",
    "            elif user == 4:\n",
    "                print(\"Goodbye!\")\n",
    "                break\n",
    "\n",
    "            else:\n",
    "                print(\"Woopsie! You made an oopsie!\")\n",
    "\n",
    "        except ValueError:\n",
    "            print(\"Woopsie! You made an oopsie!\")\n",
    "\n",
    "main_prog()"
   ]
  },
  {
   "cell_type": "code",
   "execution_count": null,
   "id": "a9ded828-fe52-439f-8064-7d922dd7bc6f",
   "metadata": {},
   "outputs": [],
   "source": []
  }
 ],
 "metadata": {
  "kernelspec": {
   "display_name": "Python [conda env:base] *",
   "language": "python",
   "name": "conda-base-py"
  },
  "language_info": {
   "codemirror_mode": {
    "name": "ipython",
    "version": 3
   },
   "file_extension": ".py",
   "mimetype": "text/x-python",
   "name": "python",
   "nbconvert_exporter": "python",
   "pygments_lexer": "ipython3",
   "version": "3.12.7"
  }
 },
 "nbformat": 4,
 "nbformat_minor": 5
}
