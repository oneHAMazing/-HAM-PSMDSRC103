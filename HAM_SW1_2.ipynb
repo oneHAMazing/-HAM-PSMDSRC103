{
 "cells": [
  {
   "cell_type": "markdown",
   "id": "72975563-5d49-4683-ad8e-4e88ecc197e4",
   "metadata": {},
   "source": [
    "# Seatwork 1.2 Practice Set 2: Flow Control\n",
    "## Submitted by Hazel Anne Mozo"
   ]
  },
  {
   "cell_type": "markdown",
   "id": "cd92ae1b-47e2-4866-b58f-709a4b423b01",
   "metadata": {},
   "source": [
    "### Ask the user for a number, print only the even numbers in the range from 0 until the user specified number."
   ]
  },
  {
   "cell_type": "code",
   "execution_count": 9,
   "id": "02b229ee-c005-48bf-b565-fbf89ed972ed",
   "metadata": {},
   "outputs": [
    {
     "name": "stdin",
     "output_type": "stream",
     "text": [
      "Please give a number greater than 0:  30\n"
     ]
    },
    {
     "name": "stdout",
     "output_type": "stream",
     "text": [
      "[0, 2, 4, 6, 8, 10, 12, 14, 16, 18, 20, 22, 24, 26, 28]\n"
     ]
    }
   ],
   "source": [
    "#get number from user\n",
    "h = int(input(\"Please give a number greater than 0: \"))\n",
    "\n",
    "#create a list to store numbers\n",
    "listNum = list(range(h))\n",
    "\n",
    "#create an empty list to store even numbers later\n",
    "listEven=[]\n",
    "\n",
    "#for loop to get the even numbers\n",
    "for i in listNum:\n",
    "    if i % 2 == 0:\n",
    "        listEven.append(i)\n",
    "\n",
    "#show the even numbers\n",
    "print(listEven)"
   ]
  },
  {
   "cell_type": "markdown",
   "id": "f71244e0-381a-4300-8f9b-086911ba327e",
   "metadata": {},
   "source": [
    "### Ask the user input value n, then if a number is a valid divisor of n, print the number."
   ]
  },
  {
   "cell_type": "code",
   "execution_count": 18,
   "id": "2675da46-9065-4396-874f-b9f505b256eb",
   "metadata": {},
   "outputs": [
    {
     "name": "stdin",
     "output_type": "stream",
     "text": [
      "Please give a number greater than 0:  17\n"
     ]
    },
    {
     "name": "stdout",
     "output_type": "stream",
     "text": [
      "[1, 17]\n"
     ]
    }
   ],
   "source": [
    "#get number from user\n",
    "n = int(input(\"Please give a number greater than 0: \"))\n",
    "\n",
    "#create an empty list to store the divisors later\n",
    "listDiv = []\n",
    "\n",
    "#initiate a variable for counter\n",
    "i = 1\n",
    "\n",
    "#while loop to get the divisors\n",
    "while i <= n:\n",
    "    if n % i == 0:\n",
    "        listDiv.append(i)\n",
    "    i += 1\n",
    "\n",
    "#show the divisors\n",
    "print(listDiv)"
   ]
  },
  {
   "cell_type": "markdown",
   "id": "566816a0-1694-48c1-a2ef-1a10efc7df5f",
   "metadata": {},
   "source": [
    "### Write the factorial of a number (user defined value) with the different looping structures explored in class."
   ]
  },
  {
   "cell_type": "code",
   "execution_count": 55,
   "id": "1837216f-1257-4e53-a573-8c7673131005",
   "metadata": {},
   "outputs": [
    {
     "name": "stdin",
     "output_type": "stream",
     "text": [
      "Please give a number greater than 0:  10\n"
     ]
    },
    {
     "name": "stdout",
     "output_type": "stream",
     "text": [
      "[1, 2, 3, 4, 5, 6, 7, 8, 9, 10]\n",
      "Output using for loop: 3628800\n",
      "Output using for loop: 3628800\n"
     ]
    }
   ],
   "source": [
    "#get number from user\n",
    "n = int(input(\"Please give a number greater than 0: \"))\n",
    "\n",
    "#create a list of the numbers using range\n",
    "#start from 1 and n+1 so that number given is included\n",
    "listNum = list(range(1,n+1)) \n",
    "print(listNum)\n",
    "\n",
    "#initiate a variable for the factorial and counter\n",
    "factFOR = 1\n",
    "factWHILE = 1\n",
    "a = 1\n",
    "\n",
    "#for loop to get the factorial\n",
    "for i in listNum:\n",
    "    factFOR = factFOR * i\n",
    "\n",
    "#while loop to get the factorial\n",
    "while a <= len(listNum):\n",
    "    factWHILE = factWHILE * a\n",
    "    a += 1\n",
    "\n",
    "#show the factorials\n",
    "print(f\"Output using for loop: {factFOR}\")\n",
    "print(f\"Output using for loop: {factWHILE}\")"
   ]
  },
  {
   "cell_type": "code",
   "execution_count": null,
   "id": "ee3b37d5-6b1c-4462-9c43-43f4905170af",
   "metadata": {},
   "outputs": [],
   "source": []
  }
 ],
 "metadata": {
  "kernelspec": {
   "display_name": "Python [conda env:base] *",
   "language": "python",
   "name": "conda-base-py"
  },
  "language_info": {
   "codemirror_mode": {
    "name": "ipython",
    "version": 3
   },
   "file_extension": ".py",
   "mimetype": "text/x-python",
   "name": "python",
   "nbconvert_exporter": "python",
   "pygments_lexer": "ipython3",
   "version": "3.12.7"
  }
 },
 "nbformat": 4,
 "nbformat_minor": 5
}
